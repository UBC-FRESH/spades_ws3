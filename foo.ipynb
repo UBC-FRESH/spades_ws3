{
 "cells": [
  {
   "cell_type": "code",
   "execution_count": 1,
   "metadata": {},
   "outputs": [
    {
     "name": "stdout",
     "output_type": "stream",
     "text": [
      "/home/rstudio/.virtualenvs/r-reticulate/bin/python\n"
     ]
    }
   ],
   "source": [
    "!which python"
   ]
  },
  {
   "cell_type": "code",
   "execution_count": 2,
   "metadata": {},
   "outputs": [],
   "source": [
    "if 0:\n",
    "    !pip install ws3 rasterio pandas scipy fiona geopandas profilehooks matplotlib"
   ]
  },
  {
   "cell_type": "code",
   "execution_count": 3,
   "metadata": {},
   "outputs": [],
   "source": [
    "%load_ext autoreload\n",
    "%autoreload 2"
   ]
  },
  {
   "cell_type": "code",
   "execution_count": 4,
   "metadata": {},
   "outputs": [],
   "source": [
    "import spadesws3\n",
    "import numpy as np\n",
    "import rasterio\n"
   ]
  },
  {
   "cell_type": "code",
   "execution_count": 5,
   "metadata": {},
   "outputs": [],
   "source": [
    "if 0:\n",
    "    !pip uninstall -y ws3\n",
    "    !pip install -e ./ws3"
   ]
  },
  {
   "cell_type": "code",
   "execution_count": 6,
   "metadata": {},
   "outputs": [
    {
     "name": "stdout",
     "output_type": "stream",
     "text": [
      "/workspaces/spades_ws3/ws3/ws3/__init__.py\n"
     ]
    }
   ],
   "source": [
    "import ws3\n",
    "print(ws3.__file__)"
   ]
  },
  {
   "cell_type": "code",
   "execution_count": 7,
   "metadata": {},
   "outputs": [],
   "source": [
    "model_name='tsa24_clipped' \n",
    "model_path='examples/data/woodstock_model_files'\n",
    "base_year=2020\n",
    "horizon=3\n",
    "period_length=1\n",
    "shp_path='examples/data/shp/tsa24_clipped/stands.shp'\n",
    "tif_path='data'\n",
    "theme_cols=['theme0', 'theme1', 'theme2', 'theme3', 'theme4']\n",
    "#hdt_func = ws3.common.hash_dt"
   ]
  },
  {
   "cell_type": "code",
   "execution_count": 8,
   "metadata": {},
   "outputs": [
    {
     "name": "stdout",
     "output_type": "stream",
     "text": [
      "rm: cannot remove 'data/*.tif': No such file or directory\n"
     ]
    }
   ],
   "source": [
    "!rm data/*.tif"
   ]
  },
  {
   "cell_type": "code",
   "execution_count": 9,
   "metadata": {},
   "outputs": [
    {
     "data": {
      "text/plain": [
       "{49742: ('tsa24_clipped', '1', '2401002', '204', '2401002'),\n",
       " 54691: ('tsa24_clipped', '1', '2402002', '204', '2402002'),\n",
       " 30909: ('tsa24_clipped', '0', '2401000', '100', '2401000'),\n",
       " 15257: ('tsa24_clipped', '1', '2401002', '204', '2421002'),\n",
       " 37496: ('tsa24_clipped', '1', '2403002', '204', '2423002'),\n",
       " 34881: ('tsa24_clipped', '1', '2403002', '204', '2403002'),\n",
       " 57565: ('tsa24_clipped', '1', '2403000', '100', '2403000'),\n",
       " 60524: ('tsa24_clipped', '1', '2402000', '100', '2402000'),\n",
       " 39700: ('tsa24_clipped', '0', '2402005', '1201', '2402005')}"
      ]
     },
     "execution_count": 9,
     "metadata": {},
     "output_type": "execute_result"
    }
   ],
   "source": [
    "tif_filename = 'inventory_init.tif'\n",
    "spadesws3.import_inventory(shp_path, tif_path, tif_filename, theme_cols)\n",
    "spadesws3.hdtk_decode"
   ]
  },
  {
   "cell_type": "code",
   "execution_count": 10,
   "metadata": {},
   "outputs": [
    {
     "name": "stdout",
     "output_type": "stream",
     "text": [
      "rm: cannot remove 'data/inventory_2*.tif': No such file or directory\n",
      "rm: cannot remove 'data/projected*.tif': No such file or directory\n"
     ]
    }
   ],
   "source": [
    "!rm data/inventory_2*.tif; rm data/projected*.tif\n",
    "!cp data/inventory_init.tif data/inventory_2020.tif"
   ]
  },
  {
   "cell_type": "code",
   "execution_count": 11,
   "metadata": {},
   "outputs": [
    {
     "data": {
      "text/plain": [
       "{1: 'harvest'}"
      ]
     },
     "execution_count": 11,
     "metadata": {},
     "output_type": "execute_result"
    }
   ],
   "source": [
    "spadesws3.add_raster_action(1, 'harvest')\n",
    "spadesws3.action_decode"
   ]
  },
  {
   "cell_type": "code",
   "execution_count": 12,
   "metadata": {},
   "outputs": [
    {
     "name": "stdout",
     "output_type": "stream",
     "text": [
      "64110137 136049\n"
     ]
    }
   ],
   "source": [
    "with rasterio.open('data/inventory_2020.tif', 'r+') as src:\n",
    "    data = src.read()\n",
    "    print(data[0].sum(), data[1].sum())\n",
    "    data[3][data[2] == 2] = 1 # should signal request to apply 'harvest' action to 8 pixels\n",
    "    src.write(data)"
   ]
  },
  {
   "cell_type": "code",
   "execution_count": 13,
   "metadata": {},
   "outputs": [
    {
     "data": {
      "text/plain": [
       "array([-1,  1], dtype=int32)"
      ]
     },
     "execution_count": 13,
     "metadata": {},
     "output_type": "execute_result"
    }
   ],
   "source": [
    "with rasterio.open('data/inventory_2020.tif', 'r') as src:\n",
    "    data = src.read()\n",
    "np.unique(data[3])\n"
   ]
  },
  {
   "cell_type": "code",
   "execution_count": 14,
   "metadata": {},
   "outputs": [],
   "source": [
    "spadesws3.bootstrap_forestmodel(model_name=model_name, \n",
    "                                model_path=model_path, \n",
    "                                base_year=base_year, \n",
    "                                tif_path=tif_path,\n",
    "                                tif_filename='inventory_2020.tif')\n",
    "spadesws3.forestmodel\n",
    "fm = spadesws3.forestmodel"
   ]
  },
  {
   "cell_type": "code",
   "execution_count": 15,
   "metadata": {},
   "outputs": [
    {
     "data": {
      "text/plain": [
       "array([[[   -1,    -1,    -1, ...,    -1,    -1,    -1],\n",
       "        [54691, 30909,    -1, ..., 30909, 49742,    -1],\n",
       "        [54691, 30909,    -1, ..., 49742, 49742,    -1],\n",
       "        ...,\n",
       "        [15257, 15257,    -1, ..., 37496, 37496,    -1],\n",
       "        [15257, 15257, 15257, ..., 37496, 37496,    -1],\n",
       "        [15257, 15257, 15257, ..., 37496, 37496,    -1]],\n",
       "\n",
       "       [[   -1,    -1,    -1, ...,    -1,    -1,    -1],\n",
       "        [   95,   145,    -1, ...,   145,    78,    -1],\n",
       "        [   95,   145,    -1, ...,    78,    78,    -1],\n",
       "        ...,\n",
       "        [    0,     0,    -1, ...,     9,     9,    -1],\n",
       "        [    0,     0,     0, ...,     9,     9,    -1],\n",
       "        [    0,     0,     0, ...,     9,     9,    -1]],\n",
       "\n",
       "       [[   -1,    -1,    -1, ...,    -1,    -1,    -1],\n",
       "        [  177,   178,    -1, ...,   150,   140,    -1],\n",
       "        [  177,   178,    -1, ...,   140,   140,    -1],\n",
       "        ...,\n",
       "        [    2,     2,    -1, ...,    44,    44,    -1],\n",
       "        [    2,     2,     2, ...,    44,    44,    -1],\n",
       "        [    2,     2,     2, ...,    44,    44,    -1]],\n",
       "\n",
       "       [[   -1,    -1,    -1, ...,    -1,    -1,    -1],\n",
       "        [   -1,    -1,    -1, ...,    -1,    -1,    -1],\n",
       "        [   -1,    -1,    -1, ...,    -1,    -1,    -1],\n",
       "        ...,\n",
       "        [    1,     1,    -1, ...,    -1,    -1,    -1],\n",
       "        [    1,     1,     1, ...,    -1,    -1,    -1],\n",
       "        [    1,     1,     1, ...,    -1,    -1,    -1]]], dtype=int32)"
      ]
     },
     "execution_count": 15,
     "metadata": {},
     "output_type": "execute_result"
    }
   ],
   "source": [
    "fm.forestraster._src.read()"
   ]
  },
  {
   "cell_type": "code",
   "execution_count": null,
   "metadata": {},
   "outputs": [
    {
     "data": {
      "text/plain": [
       "('tsa24_clipped', '1', '2401002', '204', '2401002')"
      ]
     },
     "execution_count": 36,
     "metadata": {},
     "output_type": "execute_result"
    }
   ],
   "source": [
    "spadesws3.hdtk_decode[1897841230]"
   ]
  },
  {
   "cell_type": "code",
   "execution_count": null,
   "metadata": {},
   "outputs": [
    {
     "ename": "AttributeError",
     "evalue": "module 'spadesws3' has no attribute 'hdtk_decode'",
     "output_type": "error",
     "traceback": [
      "\u001b[0;31m---------------------------------------------------------------------------\u001b[0m",
      "\u001b[0;31mAttributeError\u001b[0m                            Traceback (most recent call last)",
      "Cell \u001b[0;32mIn[25], line 1\u001b[0m\n\u001b[0;32m----> 1\u001b[0m \u001b[43mspadesws3\u001b[49m\u001b[38;5;241;43m.\u001b[39;49m\u001b[43mhdtk_decode\u001b[49m[\u001b[38;5;241m1631665049\u001b[39m]\n",
      "\u001b[0;31mAttributeError\u001b[0m: module 'spadesws3' has no attribute 'hdtk_decode'"
     ]
    }
   ],
   "source": [
    "spadesws3.hdtk_decode[1631665049]"
   ]
  },
  {
   "cell_type": "code",
   "execution_count": 15,
   "metadata": {},
   "outputs": [
    {
     "ename": "AttributeError",
     "evalue": "module 'spadesws3' has no attribute '__d'",
     "output_type": "error",
     "traceback": [
      "\u001b[0;31m---------------------------------------------------------------------------\u001b[0m",
      "\u001b[0;31mAttributeError\u001b[0m                            Traceback (most recent call last)",
      "Cell \u001b[0;32mIn[15], line 1\u001b[0m\n\u001b[0;32m----> 1\u001b[0m d \u001b[38;5;241m=\u001b[39m \u001b[43mspadesws3\u001b[49m\u001b[38;5;241;43m.\u001b[39;49m\u001b[43m__d\u001b[49m\n\u001b[1;32m      2\u001b[0m ic \u001b[38;5;241m=\u001b[39m spadesws3\u001b[38;5;241m.\u001b[39m__ic\n\u001b[1;32m      3\u001b[0m ick \u001b[38;5;241m=\u001b[39m spadesws3\u001b[38;5;241m.\u001b[39m__ick\n",
      "\u001b[0;31mAttributeError\u001b[0m: module 'spadesws3' has no attribute '__d'"
     ]
    }
   ],
   "source": [
    "d = spadesws3.__d\n",
    "ic = spadesws3.__ic\n",
    "ick = spadesws3.__ick\n",
    "ickg = spadesws3.__ickg"
   ]
  },
  {
   "cell_type": "code",
   "execution_count": 115,
   "metadata": {},
   "outputs": [
    {
     "data": {
      "text/plain": [
       "array([135, 135, 135, 135, 135, 135, 135, 135])"
      ]
     },
     "execution_count": 115,
     "metadata": {},
     "output_type": "execute_result"
    }
   ],
   "source": [
    "d[1][ic][ick][ickg]"
   ]
  },
  {
   "cell_type": "code",
   "execution_count": 116,
   "metadata": {},
   "outputs": [
    {
     "ename": "SyntaxError",
     "evalue": "invalid syntax (437341648.py, line 1)",
     "output_type": "error",
     "traceback": [
      "\u001b[0;36m  Cell \u001b[0;32mIn[116], line 1\u001b[0;36m\u001b[0m\n\u001b[0;31m    d[1][ic][ick][ickg] =\u001b[0m\n\u001b[0m                         ^\u001b[0m\n\u001b[0;31mSyntaxError\u001b[0m\u001b[0;31m:\u001b[0m invalid syntax\n"
     ]
    }
   ],
   "source": [
    "d[1][ic][ick][ickg] ="
   ]
  },
  {
   "cell_type": "code",
   "execution_count": 107,
   "metadata": {},
   "outputs": [],
   "source": [
    "d[1] = 0"
   ]
  },
  {
   "cell_type": "code",
   "execution_count": 108,
   "metadata": {},
   "outputs": [
    {
     "data": {
      "text/plain": [
       "array([[0, 0, 0, ..., 0, 0, 0],\n",
       "       [0, 0, 0, ..., 0, 0, 0],\n",
       "       [0, 0, 0, ..., 0, 0, 0],\n",
       "       ...,\n",
       "       [0, 0, 0, ..., 0, 0, 0],\n",
       "       [0, 0, 0, ..., 0, 0, 0],\n",
       "       [0, 0, 0, ..., 0, 0, 0]])"
      ]
     },
     "execution_count": 108,
     "metadata": {},
     "output_type": "execute_result"
    }
   ],
   "source": [
    "d[1]"
   ]
  },
  {
   "cell_type": "code",
   "execution_count": null,
   "metadata": {},
   "outputs": [],
   "source": []
  },
  {
   "cell_type": "code",
   "execution_count": 76,
   "metadata": {},
   "outputs": [
    {
     "data": {
      "text/plain": [
       "22429"
      ]
     },
     "execution_count": 76,
     "metadata": {},
     "output_type": "execute_result"
    }
   ],
   "source": [
    "136049 - 113620"
   ]
  },
  {
   "cell_type": "code",
   "execution_count": 25,
   "metadata": {},
   "outputs": [
    {
     "data": {
      "text/plain": [
       "1365.0"
      ]
     },
     "execution_count": 25,
     "metadata": {},
     "output_type": "execute_result"
    }
   ],
   "source": [
    "fm.inventory(0)"
   ]
  },
  {
   "cell_type": "code",
   "execution_count": 26,
   "metadata": {},
   "outputs": [
    {
     "data": {
      "text/plain": [
       "132.0"
      ]
     },
     "execution_count": 26,
     "metadata": {},
     "output_type": "execute_result"
    }
   ],
   "source": [
    "fm.inventory(1, age=135)"
   ]
  },
  {
   "cell_type": "code",
   "execution_count": 50,
   "metadata": {},
   "outputs": [
    {
     "data": {
      "text/plain": [
       "{'harvest': <ws3.forest.Action at 0x7fa8651dc310>}"
      ]
     },
     "execution_count": 50,
     "metadata": {},
     "output_type": "execute_result"
    }
   ],
   "source": [
    "spadesws3.forestmodel.actions"
   ]
  },
  {
   "cell_type": "code",
   "execution_count": 78,
   "metadata": {},
   "outputs": [
    {
     "data": {
      "text/plain": [
       "1459.0"
      ]
     },
     "execution_count": 78,
     "metadata": {},
     "output_type": "execute_result"
    }
   ],
   "source": [
    "fm.inventory(1)"
   ]
  },
  {
   "cell_type": "code",
   "execution_count": 17,
   "metadata": {},
   "outputs": [
    {
     "data": {
      "text/plain": [
       "array([[        -1,         -1,         -1, ...,         -1,         -1,\n",
       "                -1],\n",
       "       [3102201251,  685013181,         -1, ...,  685013181, 1897841230,\n",
       "                -1],\n",
       "       [3102201251,  685013181,         -1, ..., 1897841230, 1897841230,\n",
       "                -1],\n",
       "       ...,\n",
       "       [1897841230, 1897841230,         -1, ..., 3499266680, 3499266680,\n",
       "                -1],\n",
       "       [1897841230, 1897841230, 1897841230, ..., 3499266680, 3499266680,\n",
       "                -1],\n",
       "       [1897841230, 1897841230, 1897841230, ..., 3499266680, 3499266680,\n",
       "                -1]])"
      ]
     },
     "execution_count": 17,
     "metadata": {},
     "output_type": "execute_result"
    }
   ],
   "source": [
    "src = rasterio.open('data/inventory_2020.tif')\n",
    "data = src.read()\n",
    "data[0]"
   ]
  },
  {
   "cell_type": "code",
   "execution_count": null,
   "metadata": {},
   "outputs": [],
   "source": []
  },
  {
   "cell_type": "code",
   "execution_count": 29,
   "metadata": {},
   "outputs": [
    {
     "data": {
      "text/plain": [
       "{}"
      ]
     },
     "execution_count": 29,
     "metadata": {},
     "output_type": "execute_result"
    }
   ],
   "source": [
    "fm.dtypes"
   ]
  },
  {
   "cell_type": "code",
   "execution_count": 18,
   "metadata": {},
   "outputs": [
    {
     "name": "stdout",
     "output_type": "stream",
     "text": [
      "\n",
      "inventory_2020.tif\n",
      "\n",
      "inventory_2021.tif\n",
      "\n",
      "inventory_2022.tif\n"
     ]
    }
   ],
   "source": [
    "for i in range(horizon):\n",
    "    tif_filename='inventory_%i.tif' % (base_year+i)\n",
    "    print('\\n' + tif_filename)\n",
    "    fm = spadesws3.bootstrap_forestmodel(model_name=model_name, \n",
    "                                         model_path=model_path, \n",
    "                                         base_year=(base_year+i), \n",
    "                                         tif_path=tif_path,\n",
    "                                         tif_filename=tif_filename)\n",
    "    fm.areaselector.operate(1, 'harvest', 100.)\n",
    "    fm.forestraster.allocate_schedule()"
   ]
  },
  {
   "cell_type": "code",
   "execution_count": 54,
   "metadata": {},
   "outputs": [],
   "source": [
    "dtk = ('tsa24_clipped', '1', '2402002', '204', '2402002')\n",
    "age = 95"
   ]
  },
  {
   "cell_type": "code",
   "execution_count": 55,
   "metadata": {},
   "outputs": [
    {
     "data": {
      "text/plain": [
       "(0, 0.0, [[('tsa24_clipped', '1', '2402002', '204', '2422002'), 1.0, 0]])"
      ]
     },
     "execution_count": 55,
     "metadata": {},
     "output_type": "execute_result"
    }
   ],
   "source": [
    "fm.apply_action(dtk, 'harvest', 1, 95, 0.)"
   ]
  },
  {
   "cell_type": "code",
   "execution_count": 56,
   "metadata": {},
   "outputs": [
    {
     "ename": "AttributeError",
     "evalue": "'ForestModel' object has no attribute 'hash_dt'",
     "output_type": "error",
     "traceback": [
      "\u001b[0;31m---------------------------------------------------------------------------\u001b[0m",
      "\u001b[0;31mAttributeError\u001b[0m                            Traceback (most recent call last)",
      "Cell \u001b[0;32mIn[56], line 1\u001b[0m\n\u001b[0;32m----> 1\u001b[0m \u001b[43mfm\u001b[49m\u001b[38;5;241;43m.\u001b[39;49m\u001b[43mhash_dt\u001b[49m\n",
      "\u001b[0;31mAttributeError\u001b[0m: 'ForestModel' object has no attribute 'hash_dt'"
     ]
    }
   ],
   "source": [
    "fm.hash_dt"
   ]
  },
  {
   "cell_type": "code",
   "execution_count": 57,
   "metadata": {},
   "outputs": [
    {
     "data": {
      "text/plain": [
       "{('tsa24_clipped',\n",
       "  '1',\n",
       "  '2401002',\n",
       "  '204',\n",
       "  '2401002'): <ws3.forest.DevelopmentType at 0x7f87a7084be0>,\n",
       " ('tsa24_clipped',\n",
       "  '1',\n",
       "  '2402002',\n",
       "  '204',\n",
       "  '2402002'): <ws3.forest.DevelopmentType at 0x7f87a61560e0>,\n",
       " ('tsa24_clipped',\n",
       "  '0',\n",
       "  '2401000',\n",
       "  '100',\n",
       "  '2401000'): <ws3.forest.DevelopmentType at 0x7f87a6155f90>,\n",
       " ('tsa24_clipped',\n",
       "  '1',\n",
       "  '2401002',\n",
       "  '204',\n",
       "  '2421002'): <ws3.forest.DevelopmentType at 0x7f87a61560b0>,\n",
       " ('tsa24_clipped',\n",
       "  '1',\n",
       "  '2403002',\n",
       "  '204',\n",
       "  '2423002'): <ws3.forest.DevelopmentType at 0x7f87a6156170>,\n",
       " ('tsa24_clipped',\n",
       "  '1',\n",
       "  '2403002',\n",
       "  '204',\n",
       "  '2403002'): <ws3.forest.DevelopmentType at 0x7f87a6156260>,\n",
       " ('tsa24_clipped',\n",
       "  '0',\n",
       "  '2402005',\n",
       "  '1201',\n",
       "  '2402005'): <ws3.forest.DevelopmentType at 0x7f87a6156290>,\n",
       " ('tsa24_clipped',\n",
       "  '1',\n",
       "  '2402002',\n",
       "  '204',\n",
       "  '2422002'): <ws3.forest.DevelopmentType at 0x7f87a61561d0>}"
      ]
     },
     "execution_count": 57,
     "metadata": {},
     "output_type": "execute_result"
    }
   ],
   "source": [
    "fm.dtypes"
   ]
  },
  {
   "cell_type": "code",
   "execution_count": 58,
   "metadata": {},
   "outputs": [
    {
     "data": {
      "text/plain": [
       "array([[ -1,  -1,  -1, ...,  -1,  -1,  -1],\n",
       "       [ 95, 145,  -1, ..., 145,  78,  -1],\n",
       "       [ 95, 145,  -1, ...,  78,  78,  -1],\n",
       "       ...,\n",
       "       [135, 135,  -1, ...,   9,   9,  -1],\n",
       "       [135, 135, 135, ...,   9,   9,  -1],\n",
       "       [135, 135, 135, ...,   9,   9,  -1]])"
      ]
     },
     "execution_count": 58,
     "metadata": {},
     "output_type": "execute_result"
    }
   ],
   "source": [
    "src = rasterio.open('data/inventory_2020.tif')\n",
    "ages = src.read(2)\n",
    "ages"
   ]
  },
  {
   "cell_type": "code",
   "execution_count": 59,
   "metadata": {},
   "outputs": [
    {
     "data": {
      "text/plain": [
       "array([[-1, -1, -1, ..., -1, -1, -1],\n",
       "       [-1, -1, -1, ..., -1, -1, -1],\n",
       "       [-1, -1, -1, ..., -1, -1, -1],\n",
       "       ...,\n",
       "       [-1, -1, -1, ..., -1, -1, -1],\n",
       "       [-1, -1, -1, ..., -1, -1, -1],\n",
       "       [-1, -1, -1, ..., -1, -1, -1]])"
      ]
     },
     "execution_count": 59,
     "metadata": {},
     "output_type": "execute_result"
    }
   ],
   "source": [
    "src = rasterio.open('data/inventory_2021.tif')\n",
    "ages = src.read(4)\n",
    "ages"
   ]
  },
  {
   "cell_type": "code",
   "execution_count": null,
   "metadata": {},
   "outputs": [],
   "source": []
  },
  {
   "cell_type": "code",
   "execution_count": 16,
   "metadata": {},
   "outputs": [
    {
     "ename": "KeyError",
     "evalue": "('tsa24_clipped', '1', '2401002', '204', '2401002')",
     "output_type": "error",
     "traceback": [
      "\u001b[0;31m---------------------------------------------------------------------------\u001b[0m",
      "\u001b[0;31mKeyError\u001b[0m                                  Traceback (most recent call last)",
      "Cell \u001b[0;32mIn[16], line 1\u001b[0m\n\u001b[0;32m----> 1\u001b[0m dt \u001b[38;5;241m=\u001b[39m \u001b[43mfm\u001b[49m\u001b[38;5;241;43m.\u001b[39;49m\u001b[43mdtypes\u001b[49m\u001b[43m[\u001b[49m\u001b[43m(\u001b[49m\u001b[38;5;124;43m'\u001b[39;49m\u001b[38;5;124;43mtsa24_clipped\u001b[39;49m\u001b[38;5;124;43m'\u001b[39;49m\u001b[43m,\u001b[49m\n\u001b[1;32m      2\u001b[0m \u001b[43m                \u001b[49m\u001b[38;5;124;43m'\u001b[39;49m\u001b[38;5;124;43m1\u001b[39;49m\u001b[38;5;124;43m'\u001b[39;49m\u001b[43m,\u001b[49m\n\u001b[1;32m      3\u001b[0m \u001b[43m                \u001b[49m\u001b[38;5;124;43m'\u001b[39;49m\u001b[38;5;124;43m2401002\u001b[39;49m\u001b[38;5;124;43m'\u001b[39;49m\u001b[43m,\u001b[49m\n\u001b[1;32m      4\u001b[0m \u001b[43m                \u001b[49m\u001b[38;5;124;43m'\u001b[39;49m\u001b[38;5;124;43m204\u001b[39;49m\u001b[38;5;124;43m'\u001b[39;49m\u001b[43m,\u001b[49m\n\u001b[1;32m      5\u001b[0m \u001b[43m                \u001b[49m\u001b[38;5;124;43m'\u001b[39;49m\u001b[38;5;124;43m2401002\u001b[39;49m\u001b[38;5;124;43m'\u001b[39;49m\u001b[43m)\u001b[49m\u001b[43m]\u001b[49m\n\u001b[1;32m      6\u001b[0m dt\u001b[38;5;241m.\u001b[39m_areas\n",
      "\u001b[0;31mKeyError\u001b[0m: ('tsa24_clipped', '1', '2401002', '204', '2401002')"
     ]
    }
   ],
   "source": [
    "dt = fm.dtypes[('tsa24_clipped',\n",
    "                '1',\n",
    "                '2401002',\n",
    "                '204',\n",
    "                '2401002')]\n",
    "dt._areas"
   ]
  },
  {
   "cell_type": "code",
   "execution_count": null,
   "metadata": {},
   "outputs": [],
   "source": []
  },
  {
   "cell_type": "code",
   "execution_count": null,
   "metadata": {},
   "outputs": [],
   "source": []
  },
  {
   "cell_type": "code",
   "execution_count": 22,
   "metadata": {},
   "outputs": [
    {
     "ename": "NameError",
     "evalue": "name 'src' is not defined",
     "output_type": "error",
     "traceback": [
      "\u001b[0;31m---------------------------------------------------------------------------\u001b[0m",
      "\u001b[0;31mNameError\u001b[0m                                 Traceback (most recent call last)",
      "Cell \u001b[0;32mIn[22], line 1\u001b[0m\n\u001b[0;32m----> 1\u001b[0m \u001b[43msrc\u001b[49m\u001b[38;5;241m.\u001b[39mprofile\n",
      "\u001b[0;31mNameError\u001b[0m: name 'src' is not defined"
     ]
    }
   ],
   "source": [
    "src.profile"
   ]
  },
  {
   "cell_type": "code",
   "execution_count": 78,
   "metadata": {},
   "outputs": [
    {
     "data": {
      "text/plain": [
       "Affine(100.0, 0.0, 1112000.0,\n",
       "       0.0, -100.0, 1124900.0)"
      ]
     },
     "execution_count": 78,
     "metadata": {},
     "output_type": "execute_result"
    }
   ],
   "source": [
    "src.profile['transform']"
   ]
  },
  {
   "cell_type": "code",
   "execution_count": 80,
   "metadata": {},
   "outputs": [
    {
     "ename": "NameError",
     "evalue": "name 'inventory' is not defined",
     "output_type": "error",
     "traceback": [
      "\u001b[0;31m---------------------------------------------------------------------------\u001b[0m",
      "\u001b[0;31mNameError\u001b[0m                                 Traceback (most recent call last)",
      "Cell \u001b[0;32mIn[80], line 2\u001b[0m\n\u001b[1;32m      1\u001b[0m theme_cols \u001b[38;5;241m=\u001b[39m [\u001b[38;5;124m'\u001b[39m\u001b[38;5;124mtheme0\u001b[39m\u001b[38;5;124m'\u001b[39m, \u001b[38;5;124m'\u001b[39m\u001b[38;5;124mtheme1\u001b[39m\u001b[38;5;124m'\u001b[39m, \u001b[38;5;124m'\u001b[39m\u001b[38;5;124mtheme2\u001b[39m\u001b[38;5;124m'\u001b[39m, \u001b[38;5;124m'\u001b[39m\u001b[38;5;124mtheme3\u001b[39m\u001b[38;5;124m'\u001b[39m, \u001b[38;5;124m'\u001b[39m\u001b[38;5;124mtheme4\u001b[39m\u001b[38;5;124m'\u001b[39m]\n\u001b[0;32m----> 2\u001b[0m fm \u001b[38;5;241m=\u001b[39m \u001b[43mspadesws3\u001b[49m\u001b[38;5;241;43m.\u001b[39;49m\u001b[43mbootstrap_forestmodel\u001b[49m\u001b[43m(\u001b[49m\u001b[43mmodel_name\u001b[49m\u001b[38;5;241;43m=\u001b[39;49m\u001b[38;5;124;43m'\u001b[39;49m\u001b[38;5;124;43mtsa24_clipped\u001b[39;49m\u001b[38;5;124;43m'\u001b[39;49m\u001b[43m,\u001b[49m\u001b[43m \u001b[49m\n\u001b[1;32m      3\u001b[0m \u001b[43m                                     \u001b[49m\u001b[43mmodel_path\u001b[49m\u001b[38;5;241;43m=\u001b[39;49m\u001b[38;5;124;43m'\u001b[39;49m\u001b[38;5;124;43mexamples/data/woodstock_model_files\u001b[39;49m\u001b[38;5;124;43m'\u001b[39;49m\u001b[43m,\u001b[49m\n\u001b[1;32m      4\u001b[0m \u001b[43m                                     \u001b[49m\u001b[43mbase_year\u001b[49m\u001b[38;5;241;43m=\u001b[39;49m\u001b[38;5;241;43m2020\u001b[39;49m\u001b[43m,\u001b[49m\u001b[43m \u001b[49m\n\u001b[1;32m      5\u001b[0m \u001b[43m                                     \u001b[49m\u001b[43mtif_path\u001b[49m\u001b[38;5;241;43m=\u001b[39;49m\u001b[38;5;124;43m'\u001b[39;49m\u001b[38;5;124;43mdata\u001b[39;49m\u001b[38;5;124;43m'\u001b[39;49m\u001b[43m,\u001b[49m\n\u001b[1;32m      6\u001b[0m \u001b[43m                                     \u001b[49m\u001b[43mtif_filename\u001b[49m\u001b[38;5;241;43m=\u001b[39;49m\u001b[38;5;124;43m'\u001b[39;49m\u001b[38;5;124;43minventory_2020.tif\u001b[39;49m\u001b[38;5;124;43m'\u001b[39;49m\u001b[43m,\u001b[49m\n\u001b[1;32m      7\u001b[0m \u001b[43m                                     \u001b[49m\u001b[43mhdtk_decode\u001b[49m\u001b[38;5;241;43m=\u001b[39;49m\u001b[43mhdtk_decode\u001b[49m\u001b[43m,\u001b[49m\n\u001b[1;32m      8\u001b[0m \u001b[43m                                     \u001b[49m\u001b[43mhorizon\u001b[49m\u001b[38;5;241;43m=\u001b[39;49m\u001b[38;5;241;43m2\u001b[39;49m\u001b[43m,\u001b[49m\n\u001b[1;32m      9\u001b[0m \u001b[43m                                     \u001b[49m\u001b[43mperiod_length\u001b[49m\u001b[38;5;241;43m=\u001b[39;49m\u001b[38;5;241;43m1\u001b[39;49m\u001b[43m)\u001b[49m\n",
      "File \u001b[0;32m/workspaces/spades_ws3/spadesws3.py:74\u001b[0m, in \u001b[0;36mbootstrap_forestmodel\u001b[0;34m(model_name, model_path, base_year, tif_path, tif_filename, hdtk_decode, horizon, period_length, max_age)\u001b[0m\n\u001b[1;32m     72\u001b[0m fm\u001b[38;5;241m.\u001b[39mreset()\n\u001b[1;32m     73\u001b[0m acode_map \u001b[38;5;241m=\u001b[39m {acode:\u001b[38;5;124m'\u001b[39m\u001b[38;5;124mprojected_\u001b[39m\u001b[38;5;132;01m%s\u001b[39;00m\u001b[38;5;124m'\u001b[39m \u001b[38;5;241m%\u001b[39m acode \u001b[38;5;28;01mfor\u001b[39;00m acode \u001b[38;5;129;01min\u001b[39;00m fm\u001b[38;5;241m.\u001b[39mactions\u001b[38;5;241m.\u001b[39mkeys() \u001b[38;5;28;01mif\u001b[39;00m acode \u001b[38;5;129;01mnot\u001b[39;00m \u001b[38;5;129;01min\u001b[39;00m [\u001b[38;5;124m'\u001b[39m\u001b[38;5;124mnull\u001b[39m\u001b[38;5;124m'\u001b[39m]}\n\u001b[0;32m---> 74\u001b[0m fr \u001b[38;5;241m=\u001b[39m ws3\u001b[38;5;241m.\u001b[39mspatial\u001b[38;5;241m.\u001b[39mForestRaster(hdt_map\u001b[38;5;241m=\u001b[39m\u001b[43minventory\u001b[49m[\u001b[38;5;124m'\u001b[39m\u001b[38;5;124mhdtk_decode\u001b[39m\u001b[38;5;124m'\u001b[39m],\n\u001b[1;32m     75\u001b[0m                               hdt_func\u001b[38;5;241m=\u001b[39mhdt_func,\n\u001b[1;32m     76\u001b[0m                               src_path\u001b[38;5;241m=\u001b[39m\u001b[38;5;124m'\u001b[39m\u001b[38;5;132;01m%s\u001b[39;00m\u001b[38;5;124m/\u001b[39m\u001b[38;5;132;01m%s\u001b[39;00m\u001b[38;5;124m'\u001b[39m \u001b[38;5;241m%\u001b[39m (tif_path, tif_filename),\n\u001b[1;32m     77\u001b[0m                               \u001b[38;5;66;03m#src_path=raster_memfile(),\u001b[39;00m\n\u001b[1;32m     78\u001b[0m                               snk_path\u001b[38;5;241m=\u001b[39mtif_path,\n\u001b[1;32m     79\u001b[0m                               acode_map\u001b[38;5;241m=\u001b[39macode_map,\n\u001b[1;32m     80\u001b[0m                               forestmodel\u001b[38;5;241m=\u001b[39mfm,\n\u001b[1;32m     81\u001b[0m                               base_year\u001b[38;5;241m=\u001b[39mfm\u001b[38;5;241m.\u001b[39mbase_year, \u001b[38;5;66;03m# to do: tweak ForestRaster constructor to skip this (read from fm)\u001b[39;00m\n\u001b[1;32m     82\u001b[0m                               horizon\u001b[38;5;241m=\u001b[39m\u001b[38;5;241m1\u001b[39m,\n\u001b[1;32m     83\u001b[0m                               period_length\u001b[38;5;241m=\u001b[39m\u001b[38;5;241m1\u001b[39m,\n\u001b[1;32m     84\u001b[0m                               time_step\u001b[38;5;241m=\u001b[39m\u001b[38;5;241m1\u001b[39m,\n\u001b[1;32m     85\u001b[0m                               piggyback_acodes\u001b[38;5;241m=\u001b[39m{})\n\u001b[1;32m     86\u001b[0m fm\u001b[38;5;241m.\u001b[39mforestraster \u001b[38;5;241m=\u001b[39m fr\n\u001b[1;32m     87\u001b[0m \u001b[38;5;28;01mreturn\u001b[39;00m fm\n",
      "\u001b[0;31mNameError\u001b[0m: name 'inventory' is not defined"
     ]
    }
   ],
   "source": [
    "theme_cols = ['theme0', 'theme1', 'theme2', 'theme3', 'theme4']\n",
    "fm = spadesws3.bootstrap_forestmodel(model_name='tsa24_clipped', \n",
    "                                     model_path='examples/data/woodstock_model_files',\n",
    "                                     base_year=2020, \n",
    "                                     tif_path='data',\n",
    "                                     tif_filename='inventory_2020.tif',\n",
    "                                     hdtk_decode=hdtk_decode,\n",
    "                                     horizon=2,\n",
    "                                     period_length=1)"
   ]
  },
  {
   "cell_type": "code",
   "execution_count": null,
   "metadata": {},
   "outputs": [],
   "source": []
  },
  {
   "cell_type": "code",
   "execution_count": null,
   "metadata": {},
   "outputs": [],
   "source": []
  },
  {
   "cell_type": "code",
   "execution_count": null,
   "metadata": {},
   "outputs": [],
   "source": []
  },
  {
   "cell_type": "code",
   "execution_count": 20,
   "metadata": {},
   "outputs": [],
   "source": [
    "fm.reset()"
   ]
  },
  {
   "cell_type": "code",
   "execution_count": 21,
   "metadata": {},
   "outputs": [
    {
     "data": {
      "text/plain": [
       "0.0"
      ]
     },
     "execution_count": 21,
     "metadata": {},
     "output_type": "execute_result"
    }
   ],
   "source": [
    "fm.areaselector.operate(1, 'harvest', 100.)"
   ]
  },
  {
   "cell_type": "code",
   "execution_count": 22,
   "metadata": {},
   "outputs": [
    {
     "data": {
      "text/plain": [
       "100.0"
      ]
     },
     "execution_count": 22,
     "metadata": {},
     "output_type": "execute_result"
    }
   ],
   "source": [
    "fm.compile_product(1, '1.')"
   ]
  },
  {
   "cell_type": "code",
   "execution_count": 23,
   "metadata": {},
   "outputs": [
    {
     "name": "stdout",
     "output_type": "stream",
     "text": [
      "processing case 1 harvest ('tsa24_clipped', '1', '2401002', '204', '2401002') 155 34.0\n",
      "dy 0\n",
      "34 34.0 1.0 34.0\n",
      "n 34 tarea 34.0\n",
      "processing case 1 harvest ('tsa24_clipped', '1', '2401002', '204', '2401002') 153 9.0\n",
      "dy 0\n",
      "9 9.0 1.0 9.0\n",
      "n 9 tarea 9.0\n",
      "processing case 1 harvest ('tsa24_clipped', '1', '2401002', '204', '2401002') 145 3.0\n",
      "dy 0\n",
      "99 99.0 0.030303030303030304 3.0\n",
      "n 3 tarea 3.0\n",
      "processing case 1 harvest ('tsa24_clipped', '1', '2402002', '204', '2402002') 115 3.0\n",
      "dy 0\n",
      "3 3.0 1.0 3.0\n",
      "n 3 tarea 3.0\n",
      "processing case 1 harvest ('tsa24_clipped', '1', '2402002', '204', '2402002') 95 34.0\n",
      "dy 0\n",
      "34 34.0 1.0 34.0\n",
      "n 34 tarea 34.0\n",
      "processing case 1 harvest ('tsa24_clipped', '1', '2403000', '100', '2403000') 93 17.0\n",
      "dy 0\n",
      "17 17.0 1.0 17.0\n",
      "n 17 tarea 17.0\n"
     ]
    }
   ],
   "source": [
    "fm.forestraster.allocate_schedule()"
   ]
  },
  {
   "cell_type": "code",
   "execution_count": 52,
   "metadata": {},
   "outputs": [
    {
     "data": {
      "text/plain": [
       "100"
      ]
     },
     "execution_count": 52,
     "metadata": {},
     "output_type": "execute_result"
    }
   ],
   "source": [
    "src = rasterio.open('data/projected_harvest_2020.tif')\n",
    "data = src.read()\n",
    "#np.sum(data)\n",
    "data.sum()"
   ]
  },
  {
   "cell_type": "code",
   "execution_count": 53,
   "metadata": {},
   "outputs": [
    {
     "data": {
      "text/plain": [
       "{'driver': 'GTiff', 'dtype': 'uint8', 'nodata': 0.0, 'width': 41, 'height': 41, 'count': 1, 'crs': CRS.from_epsg(3005), 'transform': Affine(100.0, 0.0, 1112000.0,\n",
       "       0.0, -100.0, 1124900.0), 'blockysize': 16, 'tiled': False, 'compress': 'lzw', 'interleave': 'band'}"
      ]
     },
     "execution_count": 53,
     "metadata": {},
     "output_type": "execute_result"
    }
   ],
   "source": [
    "src.profile"
   ]
  },
  {
   "cell_type": "code",
   "execution_count": 25,
   "metadata": {},
   "outputs": [
    {
     "ename": "RasterioIOError",
     "evalue": "data/inventory_2020.tif: No such file or directory",
     "output_type": "error",
     "traceback": [
      "\u001b[0;31m---------------------------------------------------------------------------\u001b[0m",
      "\u001b[0;31mCPLE_OpenFailedError\u001b[0m                      Traceback (most recent call last)",
      "File \u001b[0;32mrasterio/_base.pyx:310\u001b[0m, in \u001b[0;36mrasterio._base.DatasetBase.__init__\u001b[0;34m()\u001b[0m\n",
      "File \u001b[0;32mrasterio/_base.pyx:221\u001b[0m, in \u001b[0;36mrasterio._base.open_dataset\u001b[0;34m()\u001b[0m\n",
      "File \u001b[0;32mrasterio/_err.pyx:221\u001b[0m, in \u001b[0;36mrasterio._err.exc_wrap_pointer\u001b[0;34m()\u001b[0m\n",
      "\u001b[0;31mCPLE_OpenFailedError\u001b[0m: data/inventory_2020.tif: No such file or directory",
      "\nDuring handling of the above exception, another exception occurred:\n",
      "\u001b[0;31mRasterioIOError\u001b[0m                           Traceback (most recent call last)",
      "Cell \u001b[0;32mIn[25], line 2\u001b[0m\n\u001b[1;32m      1\u001b[0m data_init \u001b[38;5;241m=\u001b[39m rasterio\u001b[38;5;241m.\u001b[39mopen(\u001b[38;5;124m'\u001b[39m\u001b[38;5;124mdata/inventory_init.tif\u001b[39m\u001b[38;5;124m'\u001b[39m)\u001b[38;5;241m.\u001b[39mread()\n\u001b[0;32m----> 2\u001b[0m data_post \u001b[38;5;241m=\u001b[39m \u001b[43mrasterio\u001b[49m\u001b[38;5;241;43m.\u001b[39;49m\u001b[43mopen\u001b[49m\u001b[43m(\u001b[49m\u001b[38;5;124;43m'\u001b[39;49m\u001b[38;5;124;43mdata/inventory_2020.tif\u001b[39;49m\u001b[38;5;124;43m'\u001b[39;49m\u001b[43m)\u001b[49m\u001b[38;5;241m.\u001b[39mread()\n",
      "File \u001b[0;32m~/.virtualenvs/r-reticulate/lib/python3.10/site-packages/rasterio/env.py:451\u001b[0m, in \u001b[0;36mensure_env_with_credentials.<locals>.wrapper\u001b[0;34m(*args, **kwds)\u001b[0m\n\u001b[1;32m    448\u001b[0m     session \u001b[38;5;241m=\u001b[39m DummySession()\n\u001b[1;32m    450\u001b[0m \u001b[38;5;28;01mwith\u001b[39;00m env_ctor(session\u001b[38;5;241m=\u001b[39msession):\n\u001b[0;32m--> 451\u001b[0m     \u001b[38;5;28;01mreturn\u001b[39;00m \u001b[43mf\u001b[49m\u001b[43m(\u001b[49m\u001b[38;5;241;43m*\u001b[39;49m\u001b[43margs\u001b[49m\u001b[43m,\u001b[49m\u001b[43m \u001b[49m\u001b[38;5;241;43m*\u001b[39;49m\u001b[38;5;241;43m*\u001b[39;49m\u001b[43mkwds\u001b[49m\u001b[43m)\u001b[49m\n",
      "File \u001b[0;32m~/.virtualenvs/r-reticulate/lib/python3.10/site-packages/rasterio/__init__.py:304\u001b[0m, in \u001b[0;36mopen\u001b[0;34m(fp, mode, driver, width, height, count, crs, transform, dtype, nodata, sharing, **kwargs)\u001b[0m\n\u001b[1;32m    301\u001b[0m path \u001b[38;5;241m=\u001b[39m _parse_path(raw_dataset_path)\n\u001b[1;32m    303\u001b[0m \u001b[38;5;28;01mif\u001b[39;00m mode \u001b[38;5;241m==\u001b[39m \u001b[38;5;124m\"\u001b[39m\u001b[38;5;124mr\u001b[39m\u001b[38;5;124m\"\u001b[39m:\n\u001b[0;32m--> 304\u001b[0m     dataset \u001b[38;5;241m=\u001b[39m \u001b[43mDatasetReader\u001b[49m\u001b[43m(\u001b[49m\u001b[43mpath\u001b[49m\u001b[43m,\u001b[49m\u001b[43m \u001b[49m\u001b[43mdriver\u001b[49m\u001b[38;5;241;43m=\u001b[39;49m\u001b[43mdriver\u001b[49m\u001b[43m,\u001b[49m\u001b[43m \u001b[49m\u001b[43msharing\u001b[49m\u001b[38;5;241;43m=\u001b[39;49m\u001b[43msharing\u001b[49m\u001b[43m,\u001b[49m\u001b[43m \u001b[49m\u001b[38;5;241;43m*\u001b[39;49m\u001b[38;5;241;43m*\u001b[39;49m\u001b[43mkwargs\u001b[49m\u001b[43m)\u001b[49m\n\u001b[1;32m    305\u001b[0m \u001b[38;5;28;01melif\u001b[39;00m mode \u001b[38;5;241m==\u001b[39m \u001b[38;5;124m\"\u001b[39m\u001b[38;5;124mr+\u001b[39m\u001b[38;5;124m\"\u001b[39m:\n\u001b[1;32m    306\u001b[0m     dataset \u001b[38;5;241m=\u001b[39m get_writer_for_path(path, driver\u001b[38;5;241m=\u001b[39mdriver)(\n\u001b[1;32m    307\u001b[0m         path, mode, driver\u001b[38;5;241m=\u001b[39mdriver, sharing\u001b[38;5;241m=\u001b[39msharing, \u001b[38;5;241m*\u001b[39m\u001b[38;5;241m*\u001b[39mkwargs\n\u001b[1;32m    308\u001b[0m     )\n",
      "File \u001b[0;32mrasterio/_base.pyx:312\u001b[0m, in \u001b[0;36mrasterio._base.DatasetBase.__init__\u001b[0;34m()\u001b[0m\n",
      "\u001b[0;31mRasterioIOError\u001b[0m: data/inventory_2020.tif: No such file or directory"
     ]
    }
   ],
   "source": [
    "data_init = rasterio.open('data/inventory_init.tif').read()\n",
    "data_post = rasterio.open('data/inventory_2020.tif').read()"
   ]
  },
  {
   "cell_type": "code",
   "execution_count": 26,
   "metadata": {},
   "outputs": [
    {
     "data": {
      "text/plain": [
       "array([[  0,   0,   0, ...,   0,   0,   0],\n",
       "       [ 95, 145,   0, ..., 145,  78,   0],\n",
       "       [ 95, 145,   0, ...,  78,  78,   0],\n",
       "       ...,\n",
       "       [135, 135,   0, ...,   9,   9,   0],\n",
       "       [135, 135, 135, ...,   9,   9,   0],\n",
       "       [135, 135, 135, ...,   9,   9,   0]], dtype=uint32)"
      ]
     },
     "execution_count": 26,
     "metadata": {},
     "output_type": "execute_result"
    }
   ],
   "source": [
    "data_init[1]"
   ]
  },
  {
   "cell_type": "code",
   "execution_count": 27,
   "metadata": {},
   "outputs": [
    {
     "data": {
      "text/plain": [
       "array([[  0,   0,   0, ...,   0,   0,   0],\n",
       "       [  1, 145,   0, ..., 145,  78,   0],\n",
       "       [  1, 145,   0, ...,  78,  78,   0],\n",
       "       ...,\n",
       "       [135, 135,   0, ...,   9,   9,   0],\n",
       "       [135, 135, 135, ...,   9,   9,   0],\n",
       "       [135, 135, 135, ...,   9,   9,   0]], dtype=uint32)"
      ]
     },
     "execution_count": 27,
     "metadata": {},
     "output_type": "execute_result"
    }
   ],
   "source": [
    "data_post[1]"
   ]
  },
  {
   "cell_type": "code",
   "execution_count": 28,
   "metadata": {},
   "outputs": [],
   "source": [
    "data_diff = np.subtract(data_post[1], data_init[1], dtype='int64')"
   ]
  },
  {
   "cell_type": "code",
   "execution_count": 29,
   "metadata": {},
   "outputs": [
    {
     "data": {
      "text/plain": [
       "array([ -94,  -94,  -94,  -94,  -94,  -94,  -94,  -94,  -94,  -94,  -94,\n",
       "        -94,  -94,  -94,  -94,  -94,  -92,  -92,  -92, -154,  -92,  -92,\n",
       "        -92,  -92,  -92, -154, -154, -154,  -92,  -92,  -92,  -92,  -92,\n",
       "        -92,  -92, -154, -154, -154, -154, -154, -154,  -92,  -92, -154,\n",
       "       -154, -154, -154, -154, -154, -154, -154, -154, -154, -152, -114,\n",
       "       -152, -114, -114, -152, -154, -154, -152, -152, -144, -152, -152,\n",
       "       -154, -154, -154,  -94,  -94, -144, -152, -152, -154, -154, -154,\n",
       "        -94,  -94,  -94, -154, -154, -154,  -94,  -94,  -94, -154, -154,\n",
       "       -154,  -94,  -94,  -94,  -94,  -94,  -94,  -94, -144,  -94,  -94,\n",
       "        -94])"
      ]
     },
     "execution_count": 29,
     "metadata": {},
     "output_type": "execute_result"
    }
   ],
   "source": [
    "data_diff[data_diff < 0]"
   ]
  },
  {
   "cell_type": "code",
   "execution_count": 75,
   "metadata": {},
   "outputs": [
    {
     "data": {
      "text/plain": [
       "-12138"
      ]
     },
     "execution_count": 75,
     "metadata": {},
     "output_type": "execute_result"
    }
   ],
   "source": [
    "data_diff.sum()"
   ]
  },
  {
   "cell_type": "code",
   "execution_count": 45,
   "metadata": {},
   "outputs": [
    {
     "data": {
      "text/plain": [
       "(array([], dtype=int64), array([], dtype=int64))"
      ]
     },
     "execution_count": 45,
     "metadata": {},
     "output_type": "execute_result"
    }
   ],
   "source": [
    "np.where(data_diff == -266176181)"
   ]
  },
  {
   "cell_type": "code",
   "execution_count": 128,
   "metadata": {},
   "outputs": [
    {
     "data": {
      "text/plain": [
       "(array([21, 22, 22, 22, 23, 23, 23, 23, 23, 23]),\n",
       " array([19, 16, 17, 18, 16, 17, 18, 19, 20, 21]))"
      ]
     },
     "execution_count": 128,
     "metadata": {},
     "output_type": "execute_result"
    }
   ],
   "source": [
    "np.where(data_diff == -154)"
   ]
  },
  {
   "cell_type": "code",
   "execution_count": 124,
   "metadata": {},
   "outputs": [
    {
     "data": {
      "text/plain": [
       "(3, 41, 41)"
      ]
     },
     "execution_count": 124,
     "metadata": {},
     "output_type": "execute_result"
    }
   ],
   "source": [
    "data_diff.shape"
   ]
  },
  {
   "cell_type": "code",
   "execution_count": 101,
   "metadata": {},
   "outputs": [
    {
     "data": {
      "text/plain": [
       "array([], dtype=uint32)"
      ]
     },
     "execution_count": 101,
     "metadata": {},
     "output_type": "execute_result"
    }
   ],
   "source": [
    "data_diff = data_post[1] - data_init[1]\n",
    "data_diff[data_diff > 0]"
   ]
  },
  {
   "cell_type": "code",
   "execution_count": 98,
   "metadata": {},
   "outputs": [
    {
     "data": {
      "text/plain": [
       "array([ 95, 145,  95, ...,   9,   9,   9], dtype=uint32)"
      ]
     },
     "execution_count": 98,
     "metadata": {},
     "output_type": "execute_result"
    }
   ],
   "source": [
    "data_init[1][data_init[1] > 0]"
   ]
  },
  {
   "cell_type": "code",
   "execution_count": 99,
   "metadata": {},
   "outputs": [
    {
     "data": {
      "text/plain": [
       "array([ 95, 145,  95, ...,   9,   9,   9], dtype=uint32)"
      ]
     },
     "execution_count": 99,
     "metadata": {},
     "output_type": "execute_result"
    }
   ],
   "source": [
    "data_post[1][data_post[1] > 0]"
   ]
  },
  {
   "cell_type": "code",
   "execution_count": 100,
   "metadata": {},
   "outputs": [
    {
     "data": {
      "text/plain": [
       "iinfo(min=0, max=4294967295, dtype=uint32)"
      ]
     },
     "execution_count": 100,
     "metadata": {},
     "output_type": "execute_result"
    }
   ],
   "source": [
    "np.iinfo(data_init[1].dtype)"
   ]
  },
  {
   "cell_type": "code",
   "execution_count": null,
   "metadata": {},
   "outputs": [],
   "source": []
  },
  {
   "cell_type": "code",
   "execution_count": 71,
   "metadata": {},
   "outputs": [
    {
     "data": {
      "text/plain": [
       "{'driver': 'GTiff', 'dtype': 'uint8', 'nodata': 0.0, 'width': 41, 'height': 41, 'count': 1, 'crs': CRS.from_epsg(3005), 'transform': Affine(100.0, 0.0, 1112000.0,\n",
       "       0.0, -100.0, 1124900.0), 'blockysize': 16, 'tiled': False, 'compress': 'lzw', 'interleave': 'band'}"
      ]
     },
     "execution_count": 71,
     "metadata": {},
     "output_type": "execute_result"
    }
   ],
   "source": [
    "src.profile"
   ]
  },
  {
   "cell_type": "code",
   "execution_count": 59,
   "metadata": {},
   "outputs": [],
   "source": [
    "fr = fm.forestraster\n",
    "data = fr._snkd['harvest', 0]"
   ]
  },
  {
   "cell_type": "code",
   "execution_count": 63,
   "metadata": {},
   "outputs": [
    {
     "data": {
      "text/plain": [
       "0"
      ]
     },
     "execution_count": 63,
     "metadata": {},
     "output_type": "execute_result"
    }
   ],
   "source": [
    "np.sum(data)"
   ]
  },
  {
   "cell_type": "code",
   "execution_count": 29,
   "metadata": {},
   "outputs": [],
   "source": [
    "fm.compile_actions()"
   ]
  },
  {
   "cell_type": "code",
   "execution_count": 30,
   "metadata": {},
   "outputs": [],
   "source": [
    "dtk = ('tsa24_clipped', '1', '2401002', '204', '2401002')"
   ]
  },
  {
   "cell_type": "code",
   "execution_count": 31,
   "metadata": {},
   "outputs": [
    {
     "data": {
      "text/plain": [
       "{('harvest',\n",
       "  -1): [(('?', '?', '?', '?', '2421002'), 1.0, None, None, None, None, None)]}"
      ]
     },
     "execution_count": 31,
     "metadata": {},
     "output_type": "execute_result"
    }
   ],
   "source": [
    "dt = fm.dtypes[dtk]\n",
    "dt.transitions"
   ]
  },
  {
   "cell_type": "code",
   "execution_count": 12,
   "metadata": {},
   "outputs": [
    {
     "data": {
      "text/plain": [
       "{'harvest': {('?',\n",
       "   '?',\n",
       "   '2402000',\n",
       "   '?',\n",
       "   '?'): {'': [(('?', '?', '?', '?', '2422000'),\n",
       "     1.0,\n",
       "     None,\n",
       "     None,\n",
       "     None,\n",
       "     None,\n",
       "     None)]},\n",
       "  ('?',\n",
       "   '?',\n",
       "   '2403000',\n",
       "   '?',\n",
       "   '?'): {'': [(('?', '?', '?', '?', '2423000'),\n",
       "     1.0,\n",
       "     None,\n",
       "     None,\n",
       "     None,\n",
       "     None,\n",
       "     None)]},\n",
       "  ('?',\n",
       "   '?',\n",
       "   '2403001',\n",
       "   '?',\n",
       "   '?'): {'': [(('?', '?', '?', '?', '2423001'),\n",
       "     1.0,\n",
       "     None,\n",
       "     None,\n",
       "     None,\n",
       "     None,\n",
       "     None)]},\n",
       "  ('?',\n",
       "   '?',\n",
       "   '2401002',\n",
       "   '?',\n",
       "   '?'): {'': [(('?', '?', '?', '?', '2421002'),\n",
       "     1.0,\n",
       "     None,\n",
       "     None,\n",
       "     None,\n",
       "     None,\n",
       "     None)]},\n",
       "  ('?',\n",
       "   '?',\n",
       "   '2402002',\n",
       "   '?',\n",
       "   '?'): {'': [(('?', '?', '?', '?', '2422002'),\n",
       "     1.0,\n",
       "     None,\n",
       "     None,\n",
       "     None,\n",
       "     None,\n",
       "     None)]},\n",
       "  ('?',\n",
       "   '?',\n",
       "   '2403002',\n",
       "   '?',\n",
       "   '?'): {'': [(('?', '?', '?', '?', '2423002'),\n",
       "     1.0,\n",
       "     None,\n",
       "     None,\n",
       "     None,\n",
       "     None,\n",
       "     None)]},\n",
       "  ('?',\n",
       "   '?',\n",
       "   '2402003',\n",
       "   '?',\n",
       "   '?'): {'': [(('?', '?', '?', '?', '2422003'),\n",
       "     1.0,\n",
       "     None,\n",
       "     None,\n",
       "     None,\n",
       "     None,\n",
       "     None)]},\n",
       "  ('?',\n",
       "   '?',\n",
       "   '2403003',\n",
       "   '?',\n",
       "   '?'): {'': [(('?', '?', '?', '?', '2423003'),\n",
       "     1.0,\n",
       "     None,\n",
       "     None,\n",
       "     None,\n",
       "     None,\n",
       "     None)]},\n",
       "  ('?',\n",
       "   '?',\n",
       "   '2402004',\n",
       "   '?',\n",
       "   '?'): {'': [(('?', '?', '?', '?', '2422004'),\n",
       "     1.0,\n",
       "     None,\n",
       "     None,\n",
       "     None,\n",
       "     None,\n",
       "     None)]},\n",
       "  ('?',\n",
       "   '?',\n",
       "   '2403004',\n",
       "   '?',\n",
       "   '?'): {'': [(('?', '?', '?', '?', '2423004'),\n",
       "     1.0,\n",
       "     None,\n",
       "     None,\n",
       "     None,\n",
       "     None,\n",
       "     None)]},\n",
       "  ('?',\n",
       "   '?',\n",
       "   '2401007',\n",
       "   '?',\n",
       "   '?'): {'': [(('?', '?', '?', '?', '2421007'),\n",
       "     1.0,\n",
       "     None,\n",
       "     None,\n",
       "     None,\n",
       "     None,\n",
       "     None)]},\n",
       "  ('?',\n",
       "   '?',\n",
       "   '2402007',\n",
       "   '?',\n",
       "   '?'): {'': [(('?', '?', '?', '?', '2422007'),\n",
       "     1.0,\n",
       "     None,\n",
       "     None,\n",
       "     None,\n",
       "     None,\n",
       "     None)]},\n",
       "  ('?',\n",
       "   '?',\n",
       "   '2403007',\n",
       "   '?',\n",
       "   '?'): {'': [(('?', '?', '?', '?', '2423007'),\n",
       "     1.0,\n",
       "     None,\n",
       "     None,\n",
       "     None,\n",
       "     None,\n",
       "     None)]}}}"
      ]
     },
     "execution_count": 12,
     "metadata": {},
     "output_type": "execute_result"
    }
   ],
   "source": [
    "fm.transitions"
   ]
  },
  {
   "cell_type": "code",
   "execution_count": null,
   "metadata": {},
   "outputs": [],
   "source": []
  },
  {
   "cell_type": "code",
   "execution_count": 70,
   "metadata": {},
   "outputs": [],
   "source": [
    "import rasterio\n",
    "r = rasterio.open('data/projected_harvest_2021.tif')\n",
    "data = r.read()"
   ]
  },
  {
   "cell_type": "code",
   "execution_count": 72,
   "metadata": {},
   "outputs": [
    {
     "data": {
      "text/plain": [
       "array([[[0, 0, 0, ..., 0, 0, 0],\n",
       "        [0, 0, 0, ..., 0, 0, 0],\n",
       "        [0, 0, 0, ..., 0, 0, 0],\n",
       "        ...,\n",
       "        [0, 0, 0, ..., 0, 0, 0],\n",
       "        [0, 0, 0, ..., 0, 0, 0],\n",
       "        [0, 0, 0, ..., 0, 0, 0]]], dtype=uint8)"
      ]
     },
     "execution_count": 72,
     "metadata": {},
     "output_type": "execute_result"
    }
   ],
   "source": [
    "data"
   ]
  },
  {
   "cell_type": "code",
   "execution_count": null,
   "metadata": {},
   "outputs": [],
   "source": []
  },
  {
   "cell_type": "code",
   "execution_count": 60,
   "metadata": {},
   "outputs": [],
   "source": [
    "import rasterio\n",
    "with rasterio.open('data/inventory_2020.tif') as dataset:\n",
    "    data = dataset.read()\n",
    "    profile = dataset.profile\n",
    "mf = rasterio.MemoryFile()\n",
    "with mf.open(**profile) as dataset:\n",
    "    dataset.write(data)\n",
    "foo = mf.open()\n",
    "\n"
   ]
  },
  {
   "cell_type": "code",
   "execution_count": 63,
   "metadata": {},
   "outputs": [
    {
     "data": {
      "text/plain": [
       "<open DatasetReader name='/vsipythonfilelike/00dbd59a-a718-4bba-b20d-ef82e986c864/00dbd59a-a718-4bba-b20d-ef82e986c864' mode='r'>"
      ]
     },
     "execution_count": 63,
     "metadata": {},
     "output_type": "execute_result"
    }
   ],
   "source": [
    "rasterio.open(mf)"
   ]
  },
  {
   "cell_type": "code",
   "execution_count": null,
   "metadata": {},
   "outputs": [],
   "source": []
  },
  {
   "cell_type": "code",
   "execution_count": 56,
   "metadata": {},
   "outputs": [
    {
     "ename": "AttributeError",
     "evalue": "__enter__",
     "output_type": "error",
     "traceback": [
      "\u001b[0;31m---------------------------------------------------------------------------\u001b[0m",
      "\u001b[0;31mAttributeError\u001b[0m                            Traceback (most recent call last)",
      "Cell \u001b[0;32mIn[56], line 6\u001b[0m\n\u001b[1;32m      4\u001b[0m         \u001b[38;5;28;01mwith\u001b[39;00m  mf\u001b[38;5;241m.\u001b[39mopen(\u001b[38;5;124m'\u001b[39m\u001b[38;5;124mdata/inventory_2020.tif\u001b[39m\u001b[38;5;124m'\u001b[39m, \u001b[38;5;124m'\u001b[39m\u001b[38;5;124mrw\u001b[39m\u001b[38;5;124m'\u001b[39m) \u001b[38;5;28;01mas\u001b[39;00m result:\n\u001b[1;32m      5\u001b[0m             \u001b[38;5;28;01myield\u001b[39;00m result\n\u001b[0;32m----> 6\u001b[0m \u001b[38;5;28;01mwith\u001b[39;00m raster_memfile() \u001b[38;5;28;01mas\u001b[39;00m foo:\n\u001b[1;32m      7\u001b[0m     foo\u001b[38;5;241m.\u001b[39mshape\n",
      "\u001b[0;31mAttributeError\u001b[0m: __enter__"
     ]
    }
   ],
   "source": [
    "def raster_memfile():\n",
    "    import rasterio\n",
    "    with rasterio.MemoryFile() as mf:\n",
    "        with  mf.open('data/inventory_2020.tif', 'rw') as result:\n",
    "            yield result\n",
    "with raster_memfile() as foo:\n",
    "    foo.shape"
   ]
  },
  {
   "cell_type": "code",
   "execution_count": 16,
   "metadata": {},
   "outputs": [],
   "source": [
    "import geopandas as gpd"
   ]
  },
  {
   "cell_type": "code",
   "execution_count": 47,
   "metadata": {},
   "outputs": [],
   "source": [
    "#stands = gpd.read_file('ws3/examples/data/shp/tsa24_clipped.shp/stands.shp')\n",
    "#stands = gpd.read_file('examples/data/shp/tsa24_clipped.shp/stands.shp')\n",
    "#stands['theme4'] = stands.curve1\n",
    "stands = gpd.read_file('examples/data/shp/tsa24_clipped/stands.shp')"
   ]
  },
  {
   "cell_type": "code",
   "execution_count": 48,
   "metadata": {},
   "outputs": [
    {
     "data": {
      "text/plain": [
       "13667377.375751436"
      ]
     },
     "execution_count": 48,
     "metadata": {},
     "output_type": "execute_result"
    }
   ],
   "source": [
    "stands.area.sum()"
   ]
  },
  {
   "cell_type": "code",
   "execution_count": 49,
   "metadata": {},
   "outputs": [],
   "source": [
    "gstands = stands.groupby(theme_cols+['age'])"
   ]
  },
  {
   "cell_type": "code",
   "execution_count": 50,
   "metadata": {},
   "outputs": [
    {
     "data": {
      "text/plain": [
       "9"
      ]
     },
     "execution_count": 50,
     "metadata": {},
     "output_type": "execute_result"
    }
   ],
   "source": [
    "len(stands.theme4.unique())"
   ]
  },
  {
   "cell_type": "code",
   "execution_count": 51,
   "metadata": {},
   "outputs": [
    {
     "name": "stdout",
     "output_type": "stream",
     "text": [
      "0 ('tsa24_clipped', '0', '2401000', '100', '2401000') 85 15.182274886309896\n",
      "1 ('tsa24_clipped', '0', '2401000', '100', '2401000') 95 20.653788842921458\n",
      "2 ('tsa24_clipped', '0', '2401000', '100', '2401000') 105 1.109374490200082\n",
      "3 ('tsa24_clipped', '0', '2401000', '100', '2401000') 125 25.73174833461312\n",
      "4 ('tsa24_clipped', '0', '2401000', '100', '2401000') 135 62.02382759721078\n",
      "5 ('tsa24_clipped', '0', '2401000', '100', '2401000') 145 45.32228954967691\n",
      "6 ('tsa24_clipped', '0', '2401000', '100', '2401000') 155 3.052804424896181\n",
      "7 ('tsa24_clipped', '0', '2402005', '1201', '2402005') 85 1.812979326195168\n",
      "8 ('tsa24_clipped', '1', '2401002', '204', '2401002') 78 103.76740323520823\n",
      "9 ('tsa24_clipped', '1', '2401002', '204', '2401002') 80 4.173147018452507\n",
      "10 ('tsa24_clipped', '1', '2401002', '204', '2401002') 85 282.1296355046733\n",
      "11 ('tsa24_clipped', '1', '2401002', '204', '2401002') 91 73.1021561503533\n",
      "12 ('tsa24_clipped', '1', '2401002', '204', '2401002') 93 28.37956666951611\n",
      "13 ('tsa24_clipped', '1', '2401002', '204', '2401002') 95 94.94675966211176\n",
      "14 ('tsa24_clipped', '1', '2401002', '204', '2401002') 105 32.175418531537815\n",
      "15 ('tsa24_clipped', '1', '2401002', '204', '2401002') 113 4.184826329641321\n",
      "16 ('tsa24_clipped', '1', '2401002', '204', '2401002') 115 50.030816858894816\n",
      "17 ('tsa24_clipped', '1', '2401002', '204', '2401002') 125 78.16612132001225\n",
      "18 ('tsa24_clipped', '1', '2401002', '204', '2401002') 135 72.24421919373785\n",
      "19 ('tsa24_clipped', '1', '2401002', '204', '2401002') 145 96.38442685503642\n",
      "20 ('tsa24_clipped', '1', '2401002', '204', '2401002') 153 9.591469412607397\n",
      "21 ('tsa24_clipped', '1', '2401002', '204', '2401002') 155 34.32629241113743\n",
      "22 ('tsa24_clipped', '1', '2401002', '204', '2421002') 20 0.422054121206099\n",
      "23 ('tsa24_clipped', '1', '2402000', '100', '2402000') 165 0.638005468748551\n",
      "24 ('tsa24_clipped', '1', '2402002', '204', '2402002') 78 32.64168183055375\n",
      "25 ('tsa24_clipped', '1', '2402002', '204', '2402002') 93 48.21816452980633\n",
      "26 ('tsa24_clipped', '1', '2402002', '204', '2402002') 95 33.89498244313859\n",
      "27 ('tsa24_clipped', '1', '2402002', '204', '2402002') 115 3.195378954654358\n",
      "28 ('tsa24_clipped', '1', '2403000', '100', '2403000') 93 14.811643286926836\n",
      "29 ('tsa24_clipped', '1', '2403002', '204', '2403002') 73 2.243990590272984\n",
      "30 ('tsa24_clipped', '1', '2403002', '204', '2423002') 9 59.81429119367274\n",
      "31 ('tsa24_clipped', '1', '2403002', '204', '2423002') 18 32.366198551219505\n"
     ]
    }
   ],
   "source": [
    "for i, (name, group) in enumerate(gstands):\n",
    "    dtk, age, area = tuple(map(lambda x: str(x), name[:-1])), int(name[-1]), group['area'].sum()\n",
    "    print(i, dtk, age, area)"
   ]
  },
  {
   "cell_type": "code",
   "execution_count": 23,
   "metadata": {},
   "outputs": [
    {
     "data": {
      "text/plain": [
       "13667377.375751436"
      ]
     },
     "execution_count": 23,
     "metadata": {},
     "output_type": "execute_result"
    }
   ],
   "source": [
    "gdf.area.sum()"
   ]
  },
  {
   "cell_type": "code",
   "execution_count": 24,
   "metadata": {},
   "outputs": [
    {
     "data": {
      "text/plain": [
       "(190, 10)"
      ]
     },
     "execution_count": 24,
     "metadata": {},
     "output_type": "execute_result"
    }
   ],
   "source": [
    "gdf.shape"
   ]
  },
  {
   "cell_type": "code",
   "execution_count": 39,
   "metadata": {},
   "outputs": [],
   "source": [
    "import ws3.forest, ws3.common\n",
    "from spadesws3 import import_inventory, update_areas\n",
    "theme_cols = ['theme0', 'theme1', 'theme2', 'theme3']\n",
    "model_name='tsa24_clipped'\n",
    "model_path='examples/data/woodstock_model_files'\n",
    "base_year=2020\n",
    "shp_path='examples/data/shp/tsa24_clipped/stands.shp'\n",
    "tif_path='data/inventory_2020.tif'\n",
    "horizon=2\n",
    "period_length=10\n",
    "theme_cols=theme_cols\n",
    "max_age=999\n",
    "pixel_area=1.\n",
    "fm = ws3.forest.ForestModel(model_name=model_name,\n",
    "                            model_path=model_path,\n",
    "                            base_year=base_year,\n",
    "                            horizon=horizon,\n",
    "                            period_length=period_length,\n",
    "                            max_age=max_age)\n",
    "fm.import_landscape_section()\n",
    "inventory = import_inventory(shp_path, tif_path, theme_cols=theme_cols)\n",
    "update_areas(fm=fm, \n",
    "             age_raster=inventory['raster_data'][1], \n",
    "             hdtk_raster=inventory['raster_data'][0], \n",
    "             hdtk_decode=inventory['hdtk_decode'], \n",
    "             pixel_area=pixel_area)"
   ]
  },
  {
   "cell_type": "code",
   "execution_count": 44,
   "metadata": {},
   "outputs": [
    {
     "ename": "NameError",
     "evalue": "name 'hdt_func' is not defined",
     "output_type": "error",
     "traceback": [
      "\u001b[0;31m---------------------------------------------------------------------------\u001b[0m",
      "\u001b[0;31mNameError\u001b[0m                                 Traceback (most recent call last)",
      "Cell \u001b[0;32mIn[44], line 2\u001b[0m\n\u001b[1;32m      1\u001b[0m fr \u001b[38;5;241m=\u001b[39m ws3\u001b[38;5;241m.\u001b[39mspatial\u001b[38;5;241m.\u001b[39mForestRaster(hdt_map\u001b[38;5;241m=\u001b[39minventory[\u001b[38;5;124m'\u001b[39m\u001b[38;5;124mhdtk_decode\u001b[39m\u001b[38;5;124m'\u001b[39m],\n\u001b[0;32m----> 2\u001b[0m                                 hdt_func\u001b[38;5;241m=\u001b[39m\u001b[43mhdt_func\u001b[49m,\n\u001b[1;32m      3\u001b[0m                                 src_path\u001b[38;5;241m=\u001b[39mmf,\n\u001b[1;32m      4\u001b[0m                                 snk_path\u001b[38;5;241m=\u001b[39msnk_path,\n\u001b[1;32m      5\u001b[0m                                 acode_map\u001b[38;5;241m=\u001b[39macode_map,\n\u001b[1;32m      6\u001b[0m                                 forestmodel\u001b[38;5;241m=\u001b[39mfm,\n\u001b[1;32m      7\u001b[0m                                 base_year\u001b[38;5;241m=\u001b[39mfm\u001b[38;5;241m.\u001b[39mbase_year, \u001b[38;5;66;03m# to do: tweak ForestRaster constructor to skip this (read from fm)\u001b[39;00m\n\u001b[1;32m      8\u001b[0m                                 horizon\u001b[38;5;241m=\u001b[39mfm\u001b[38;5;241m.\u001b[39mhorizon, \u001b[38;5;66;03m# to do: tweak ForestRaster constructor to skip this (read from fm)\u001b[39;00m\n\u001b[1;32m      9\u001b[0m                                 period_length\u001b[38;5;241m=\u001b[39mfm\u001b[38;5;241m.\u001b[39mperiod_length, \u001b[38;5;66;03m# to do: tweak ForestRaster constructor to skip this (read from fm)\u001b[39;00m\n\u001b[1;32m     10\u001b[0m                                 time_step\u001b[38;5;241m=\u001b[39m\u001b[38;5;241m1\u001b[39m)\n",
      "\u001b[0;31mNameError\u001b[0m: name 'hdt_func' is not defined"
     ]
    }
   ],
   "source": [
    "fr = ws3.spatial.ForestRaster(hdt_map=inventory['hdtk_decode'],\n",
    "                                hdt_func=hdt_func,\n",
    "                                src_path=mf,\n",
    "                                snk_path=snk_path,\n",
    "                                acode_map=acode_map,\n",
    "                                forestmodel=fm,\n",
    "                                base_year=fm.base_year, # to do: tweak ForestRaster constructor to skip this (read from fm)\n",
    "                                horizon=fm.horizon, # to do: tweak ForestRaster constructor to skip this (read from fm)\n",
    "                                period_length=fm.period_length, # to do: tweak ForestRaster constructor to skip this (read from fm)\n",
    "                                time_step=1)\n"
   ]
  },
  {
   "cell_type": "code",
   "execution_count": 43,
   "metadata": {},
   "outputs": [],
   "source": [
    "import ws3.spatial"
   ]
  },
  {
   "cell_type": "code",
   "execution_count": 42,
   "metadata": {},
   "outputs": [
    {
     "name": "stdout",
     "output_type": "stream",
     "text": [
      "Collecting profilehooks\n",
      "  Downloading profilehooks-1.12.0-py2.py3-none-any.whl.metadata (6.6 kB)\n",
      "Downloading profilehooks-1.12.0-py2.py3-none-any.whl (12 kB)\n",
      "Installing collected packages: profilehooks\n",
      "Successfully installed profilehooks-1.12.0\n",
      "Note: you may need to restart the kernel to use updated packages.\n"
     ]
    }
   ],
   "source": [
    "pip install profilehooks"
   ]
  },
  {
   "cell_type": "code",
   "execution_count": null,
   "metadata": {},
   "outputs": [],
   "source": []
  },
  {
   "cell_type": "code",
   "execution_count": 11,
   "metadata": {},
   "outputs": [
    {
     "data": {
      "text/plain": [
       "<ws3.forest.ForestModel at 0x7f78d0377940>"
      ]
     },
     "execution_count": 11,
     "metadata": {},
     "output_type": "execute_result"
    }
   ],
   "source": [
    "fm"
   ]
  },
  {
   "cell_type": "code",
   "execution_count": 12,
   "metadata": {},
   "outputs": [
    {
     "data": {
      "text/plain": [
       "[{'__name__': 'theme0',\n",
       "  '__description__': '',\n",
       "  'tsa24_clipped': 'tsa24_clipped'},\n",
       " {'__name__': 'theme1', '__description__': '', '0': '0', '1': '1'},\n",
       " {'__name__': 'theme2',\n",
       "  '__description__': '',\n",
       "  '2402002': '2402002',\n",
       "  '2401007': '2401007',\n",
       "  '2402001': '2402001',\n",
       "  '2401005': '2401005',\n",
       "  '2402000': '2402000',\n",
       "  '2403004': '2403004',\n",
       "  '2403006': '2403006',\n",
       "  '2401004': '2401004',\n",
       "  '2401006': '2401006',\n",
       "  '2402004': '2402004',\n",
       "  '2402007': '2402007',\n",
       "  '2403005': '2403005',\n",
       "  '2401002': '2401002',\n",
       "  '2403007': '2403007',\n",
       "  '2403003': '2403003',\n",
       "  '2401000': '2401000',\n",
       "  '2402005': '2402005',\n",
       "  '2402006': '2402006',\n",
       "  '2401003': '2401003',\n",
       "  '2403002': '2403002',\n",
       "  '2402003': '2402003',\n",
       "  '2403000': '2403000',\n",
       "  '2401001': '2401001',\n",
       "  '2403001': '2403001'},\n",
       " {'__name__': 'theme3',\n",
       "  '__description__': '',\n",
       "  '304': '304',\n",
       "  '100': '100',\n",
       "  '1201': '1201',\n",
       "  '204': '204',\n",
       "  '104': '104'},\n",
       " {'__name__': 'theme4',\n",
       "  '__description__': '',\n",
       "  '2402002': '2402002',\n",
       "  '2401007': '2401007',\n",
       "  '2422007': '2422007',\n",
       "  '2402001': '2402001',\n",
       "  '2401005': '2401005',\n",
       "  '2422003': '2422003',\n",
       "  '2402000': '2402000',\n",
       "  '2403004': '2403004',\n",
       "  '2423004': '2423004',\n",
       "  '2403006': '2403006',\n",
       "  '2421007': '2421007',\n",
       "  '2423003': '2423003',\n",
       "  '2401004': '2401004',\n",
       "  '2401006': '2401006',\n",
       "  '2402004': '2402004',\n",
       "  '2421002': '2421002',\n",
       "  '2422004': '2422004',\n",
       "  '2423002': '2423002',\n",
       "  '2422002': '2422002',\n",
       "  '2402007': '2402007',\n",
       "  '2403005': '2403005',\n",
       "  '2401002': '2401002',\n",
       "  '2403007': '2403007',\n",
       "  '2423007': '2423007',\n",
       "  '2403003': '2403003',\n",
       "  '2401000': '2401000',\n",
       "  '2402005': '2402005',\n",
       "  '2402006': '2402006',\n",
       "  '2401003': '2401003',\n",
       "  '2423001': '2423001',\n",
       "  '2403002': '2403002',\n",
       "  '2402003': '2402003',\n",
       "  '2422000': '2422000',\n",
       "  '2403000': '2403000',\n",
       "  '2401001': '2401001',\n",
       "  '2423000': '2423000',\n",
       "  '2403001': '2403001'}]"
      ]
     },
     "execution_count": 12,
     "metadata": {},
     "output_type": "execute_result"
    }
   ],
   "source": [
    "fm._themes"
   ]
  },
  {
   "cell_type": "code",
   "execution_count": 23,
   "metadata": {},
   "outputs": [],
   "source": [
    "import geopandas as gpd\n",
    "\n",
    "gdf = gpd.read_file('examples/data/shp/tsa24_clipped/stands.shp')"
   ]
  },
  {
   "cell_type": "code",
   "execution_count": 24,
   "metadata": {},
   "outputs": [
    {
     "data": {
      "text/html": [
       "<div>\n",
       "<style scoped>\n",
       "    .dataframe tbody tr th:only-of-type {\n",
       "        vertical-align: middle;\n",
       "    }\n",
       "\n",
       "    .dataframe tbody tr th {\n",
       "        vertical-align: top;\n",
       "    }\n",
       "\n",
       "    .dataframe thead th {\n",
       "        text-align: right;\n",
       "    }\n",
       "</style>\n",
       "<table border=\"1\" class=\"dataframe\">\n",
       "  <thead>\n",
       "    <tr style=\"text-align: right;\">\n",
       "      <th></th>\n",
       "      <th>theme0</th>\n",
       "      <th>theme1</th>\n",
       "      <th>theme2</th>\n",
       "      <th>curve1</th>\n",
       "      <th>curve2</th>\n",
       "      <th>SPECIES_CD</th>\n",
       "      <th>age</th>\n",
       "      <th>area</th>\n",
       "      <th>theme3</th>\n",
       "      <th>theme4</th>\n",
       "      <th>geometry</th>\n",
       "    </tr>\n",
       "  </thead>\n",
       "  <tbody>\n",
       "    <tr>\n",
       "      <th>0</th>\n",
       "      <td>tsa24_clipped</td>\n",
       "      <td>1</td>\n",
       "      <td>2401002</td>\n",
       "      <td>2401002</td>\n",
       "      <td>2401002</td>\n",
       "      <td>PLI</td>\n",
       "      <td>145</td>\n",
       "      <td>0.111814</td>\n",
       "      <td>204</td>\n",
       "      <td>2401002</td>\n",
       "      <td>MULTIPOLYGON (((1112711.004 1120816.405, 11127...</td>\n",
       "    </tr>\n",
       "    <tr>\n",
       "      <th>1</th>\n",
       "      <td>tsa24_clipped</td>\n",
       "      <td>1</td>\n",
       "      <td>2401002</td>\n",
       "      <td>2401002</td>\n",
       "      <td>2401002</td>\n",
       "      <td>PLI</td>\n",
       "      <td>145</td>\n",
       "      <td>0.113925</td>\n",
       "      <td>204</td>\n",
       "      <td>2401002</td>\n",
       "      <td>POLYGON ((1113299.500 1120834.770, 1113298.336...</td>\n",
       "    </tr>\n",
       "    <tr>\n",
       "      <th>2</th>\n",
       "      <td>tsa24_clipped</td>\n",
       "      <td>1</td>\n",
       "      <td>2401002</td>\n",
       "      <td>2401002</td>\n",
       "      <td>2401002</td>\n",
       "      <td>PLI</td>\n",
       "      <td>135</td>\n",
       "      <td>7.025088</td>\n",
       "      <td>204</td>\n",
       "      <td>2401002</td>\n",
       "      <td>POLYGON ((1112035.066 1121064.403, 1112071.399...</td>\n",
       "    </tr>\n",
       "    <tr>\n",
       "      <th>3</th>\n",
       "      <td>tsa24_clipped</td>\n",
       "      <td>1</td>\n",
       "      <td>2402002</td>\n",
       "      <td>2402002</td>\n",
       "      <td>2402002</td>\n",
       "      <td>PLI</td>\n",
       "      <td>93</td>\n",
       "      <td>11.029940</td>\n",
       "      <td>204</td>\n",
       "      <td>2402002</td>\n",
       "      <td>POLYGON ((1114394.740 1120822.943, 1114394.421...</td>\n",
       "    </tr>\n",
       "    <tr>\n",
       "      <th>4</th>\n",
       "      <td>tsa24_clipped</td>\n",
       "      <td>1</td>\n",
       "      <td>2401000</td>\n",
       "      <td>2401000</td>\n",
       "      <td>2401000</td>\n",
       "      <td>SX</td>\n",
       "      <td>145</td>\n",
       "      <td>9.581284</td>\n",
       "      <td>100</td>\n",
       "      <td>2401000</td>\n",
       "      <td>MULTIPOLYGON (((1114322.804 1120983.973, 11143...</td>\n",
       "    </tr>\n",
       "    <tr>\n",
       "      <th>...</th>\n",
       "      <td>...</td>\n",
       "      <td>...</td>\n",
       "      <td>...</td>\n",
       "      <td>...</td>\n",
       "      <td>...</td>\n",
       "      <td>...</td>\n",
       "      <td>...</td>\n",
       "      <td>...</td>\n",
       "      <td>...</td>\n",
       "      <td>...</td>\n",
       "      <td>...</td>\n",
       "    </tr>\n",
       "    <tr>\n",
       "      <th>185</th>\n",
       "      <td>tsa24_clipped</td>\n",
       "      <td>1</td>\n",
       "      <td>2401002</td>\n",
       "      <td>2401002</td>\n",
       "      <td>2401002</td>\n",
       "      <td>PLI</td>\n",
       "      <td>85</td>\n",
       "      <td>5.667730</td>\n",
       "      <td>204</td>\n",
       "      <td>2401002</td>\n",
       "      <td>POLYGON ((1115036.356 1124809.762, 1115037.888...</td>\n",
       "    </tr>\n",
       "    <tr>\n",
       "      <th>186</th>\n",
       "      <td>tsa24_clipped</td>\n",
       "      <td>1</td>\n",
       "      <td>2401002</td>\n",
       "      <td>2401002</td>\n",
       "      <td>2401002</td>\n",
       "      <td>PLI</td>\n",
       "      <td>85</td>\n",
       "      <td>1.811041</td>\n",
       "      <td>204</td>\n",
       "      <td>2401002</td>\n",
       "      <td>POLYGON ((1114157.650 1124633.924, 1114154.478...</td>\n",
       "    </tr>\n",
       "    <tr>\n",
       "      <th>187</th>\n",
       "      <td>tsa24_clipped</td>\n",
       "      <td>1</td>\n",
       "      <td>2401002</td>\n",
       "      <td>2401002</td>\n",
       "      <td>2401002</td>\n",
       "      <td>PLI</td>\n",
       "      <td>95</td>\n",
       "      <td>1.137586</td>\n",
       "      <td>204</td>\n",
       "      <td>2401002</td>\n",
       "      <td>POLYGON ((1114675.233 1124802.103, 1114684.360...</td>\n",
       "    </tr>\n",
       "    <tr>\n",
       "      <th>188</th>\n",
       "      <td>tsa24_clipped</td>\n",
       "      <td>0</td>\n",
       "      <td>2401000</td>\n",
       "      <td>2401000</td>\n",
       "      <td>2401000</td>\n",
       "      <td>SB</td>\n",
       "      <td>95</td>\n",
       "      <td>0.494253</td>\n",
       "      <td>100</td>\n",
       "      <td>2401000</td>\n",
       "      <td>POLYGON ((1114249.328 1124669.031, 1114271.225...</td>\n",
       "    </tr>\n",
       "    <tr>\n",
       "      <th>189</th>\n",
       "      <td>tsa24_clipped</td>\n",
       "      <td>1</td>\n",
       "      <td>2402002</td>\n",
       "      <td>2402002</td>\n",
       "      <td>2402002</td>\n",
       "      <td>PLI</td>\n",
       "      <td>95</td>\n",
       "      <td>0.387243</td>\n",
       "      <td>204</td>\n",
       "      <td>2402002</td>\n",
       "      <td>POLYGON ((1112837.042 1124802.518, 1112821.020...</td>\n",
       "    </tr>\n",
       "  </tbody>\n",
       "</table>\n",
       "<p>190 rows × 11 columns</p>\n",
       "</div>"
      ],
      "text/plain": [
       "            theme0  theme1   theme2   curve1   curve2 SPECIES_CD  age  \\\n",
       "0    tsa24_clipped       1  2401002  2401002  2401002        PLI  145   \n",
       "1    tsa24_clipped       1  2401002  2401002  2401002        PLI  145   \n",
       "2    tsa24_clipped       1  2401002  2401002  2401002        PLI  135   \n",
       "3    tsa24_clipped       1  2402002  2402002  2402002        PLI   93   \n",
       "4    tsa24_clipped       1  2401000  2401000  2401000         SX  145   \n",
       "..             ...     ...      ...      ...      ...        ...  ...   \n",
       "185  tsa24_clipped       1  2401002  2401002  2401002        PLI   85   \n",
       "186  tsa24_clipped       1  2401002  2401002  2401002        PLI   85   \n",
       "187  tsa24_clipped       1  2401002  2401002  2401002        PLI   95   \n",
       "188  tsa24_clipped       0  2401000  2401000  2401000         SB   95   \n",
       "189  tsa24_clipped       1  2402002  2402002  2402002        PLI   95   \n",
       "\n",
       "          area  theme3   theme4  \\\n",
       "0     0.111814     204  2401002   \n",
       "1     0.113925     204  2401002   \n",
       "2     7.025088     204  2401002   \n",
       "3    11.029940     204  2402002   \n",
       "4     9.581284     100  2401000   \n",
       "..         ...     ...      ...   \n",
       "185   5.667730     204  2401002   \n",
       "186   1.811041     204  2401002   \n",
       "187   1.137586     204  2401002   \n",
       "188   0.494253     100  2401000   \n",
       "189   0.387243     204  2402002   \n",
       "\n",
       "                                              geometry  \n",
       "0    MULTIPOLYGON (((1112711.004 1120816.405, 11127...  \n",
       "1    POLYGON ((1113299.500 1120834.770, 1113298.336...  \n",
       "2    POLYGON ((1112035.066 1121064.403, 1112071.399...  \n",
       "3    POLYGON ((1114394.740 1120822.943, 1114394.421...  \n",
       "4    MULTIPOLYGON (((1114322.804 1120983.973, 11143...  \n",
       "..                                                 ...  \n",
       "185  POLYGON ((1115036.356 1124809.762, 1115037.888...  \n",
       "186  POLYGON ((1114157.650 1124633.924, 1114154.478...  \n",
       "187  POLYGON ((1114675.233 1124802.103, 1114684.360...  \n",
       "188  POLYGON ((1114249.328 1124669.031, 1114271.225...  \n",
       "189  POLYGON ((1112837.042 1124802.518, 1112821.020...  \n",
       "\n",
       "[190 rows x 11 columns]"
      ]
     },
     "execution_count": 24,
     "metadata": {},
     "output_type": "execute_result"
    }
   ],
   "source": [
    "gdf"
   ]
  },
  {
   "cell_type": "code",
   "execution_count": 21,
   "metadata": {},
   "outputs": [],
   "source": [
    "gdf['theme4'] = gdf.curve1"
   ]
  },
  {
   "cell_type": "code",
   "execution_count": 22,
   "metadata": {},
   "outputs": [],
   "source": [
    "gdf.to_file('examples/data/shp/tsa24_clipped/stands.shp')"
   ]
  },
  {
   "cell_type": "code",
   "execution_count": 17,
   "metadata": {},
   "outputs": [
    {
     "name": "stdout",
     "output_type": "stream",
     "text": [
      "Requirement already satisfied: geopandas in /home/rstudio/.virtualenvs/r-reticulate/lib/python3.10/site-packages (0.14.3)\n",
      "Requirement already satisfied: fiona>=1.8.21 in /home/rstudio/.virtualenvs/r-reticulate/lib/python3.10/site-packages (from geopandas) (1.9.6)\n",
      "Requirement already satisfied: packaging in /home/rstudio/.virtualenvs/r-reticulate/lib/python3.10/site-packages (from geopandas) (24.0)\n",
      "Requirement already satisfied: pandas>=1.4.0 in /home/rstudio/.virtualenvs/r-reticulate/lib/python3.10/site-packages (from geopandas) (2.2.1)\n",
      "Requirement already satisfied: pyproj>=3.3.0 in /home/rstudio/.virtualenvs/r-reticulate/lib/python3.10/site-packages (from geopandas) (3.6.1)\n",
      "Requirement already satisfied: shapely>=1.8.0 in /home/rstudio/.virtualenvs/r-reticulate/lib/python3.10/site-packages (from geopandas) (2.0.3)\n",
      "Requirement already satisfied: attrs>=19.2.0 in /home/rstudio/.virtualenvs/r-reticulate/lib/python3.10/site-packages (from fiona>=1.8.21->geopandas) (23.2.0)\n",
      "Requirement already satisfied: certifi in /home/rstudio/.virtualenvs/r-reticulate/lib/python3.10/site-packages (from fiona>=1.8.21->geopandas) (2024.2.2)\n",
      "Requirement already satisfied: click~=8.0 in /home/rstudio/.virtualenvs/r-reticulate/lib/python3.10/site-packages (from fiona>=1.8.21->geopandas) (8.1.7)\n",
      "Requirement already satisfied: click-plugins>=1.0 in /home/rstudio/.virtualenvs/r-reticulate/lib/python3.10/site-packages (from fiona>=1.8.21->geopandas) (1.1.1)\n",
      "Requirement already satisfied: cligj>=0.5 in /home/rstudio/.virtualenvs/r-reticulate/lib/python3.10/site-packages (from fiona>=1.8.21->geopandas) (0.7.2)\n",
      "Requirement already satisfied: six in /home/rstudio/.virtualenvs/r-reticulate/lib/python3.10/site-packages (from fiona>=1.8.21->geopandas) (1.16.0)\n",
      "Requirement already satisfied: numpy<2,>=1.22.4 in /home/rstudio/.virtualenvs/r-reticulate/lib/python3.10/site-packages (from pandas>=1.4.0->geopandas) (1.26.4)\n",
      "Requirement already satisfied: python-dateutil>=2.8.2 in /home/rstudio/.virtualenvs/r-reticulate/lib/python3.10/site-packages (from pandas>=1.4.0->geopandas) (2.9.0.post0)\n",
      "Requirement already satisfied: pytz>=2020.1 in /home/rstudio/.virtualenvs/r-reticulate/lib/python3.10/site-packages (from pandas>=1.4.0->geopandas) (2024.1)\n",
      "Requirement already satisfied: tzdata>=2022.7 in /home/rstudio/.virtualenvs/r-reticulate/lib/python3.10/site-packages (from pandas>=1.4.0->geopandas) (2024.1)\n",
      "Note: you may need to restart the kernel to use updated packages.\n"
     ]
    }
   ],
   "source": [
    "pip install geopandas"
   ]
  },
  {
   "cell_type": "code",
   "execution_count": null,
   "metadata": {},
   "outputs": [],
   "source": []
  },
  {
   "cell_type": "code",
   "execution_count": 19,
   "metadata": {},
   "outputs": [
    {
     "ename": "FileNotFoundError",
     "evalue": "[Errno 2] No such file or directory: 'foo'",
     "output_type": "error",
     "traceback": [
      "\u001b[0;31m---------------------------------------------------------------------------\u001b[0m",
      "\u001b[0;31mFileNotFoundError\u001b[0m                         Traceback (most recent call last)",
      "Cell \u001b[0;32mIn[19], line 1\u001b[0m\n\u001b[0;32m----> 1\u001b[0m \u001b[38;5;28;43mopen\u001b[39;49m\u001b[43m(\u001b[49m\u001b[38;5;124;43m'\u001b[39;49m\u001b[38;5;124;43mfoo\u001b[39;49m\u001b[38;5;124;43m'\u001b[39;49m\u001b[43m)\u001b[49m\n",
      "File \u001b[0;32m~/.virtualenvs/r-reticulate/lib/python3.10/site-packages/IPython/core/interactiveshell.py:324\u001b[0m, in \u001b[0;36m_modified_open\u001b[0;34m(file, *args, **kwargs)\u001b[0m\n\u001b[1;32m    317\u001b[0m \u001b[38;5;28;01mif\u001b[39;00m file \u001b[38;5;129;01min\u001b[39;00m {\u001b[38;5;241m0\u001b[39m, \u001b[38;5;241m1\u001b[39m, \u001b[38;5;241m2\u001b[39m}:\n\u001b[1;32m    318\u001b[0m     \u001b[38;5;28;01mraise\u001b[39;00m \u001b[38;5;167;01mValueError\u001b[39;00m(\n\u001b[1;32m    319\u001b[0m         \u001b[38;5;124mf\u001b[39m\u001b[38;5;124m\"\u001b[39m\u001b[38;5;124mIPython won\u001b[39m\u001b[38;5;124m'\u001b[39m\u001b[38;5;124mt let you open fd=\u001b[39m\u001b[38;5;132;01m{\u001b[39;00mfile\u001b[38;5;132;01m}\u001b[39;00m\u001b[38;5;124m by default \u001b[39m\u001b[38;5;124m\"\u001b[39m\n\u001b[1;32m    320\u001b[0m         \u001b[38;5;124m\"\u001b[39m\u001b[38;5;124mas it is likely to crash IPython. If you know what you are doing, \u001b[39m\u001b[38;5;124m\"\u001b[39m\n\u001b[1;32m    321\u001b[0m         \u001b[38;5;124m\"\u001b[39m\u001b[38;5;124myou can use builtins\u001b[39m\u001b[38;5;124m'\u001b[39m\u001b[38;5;124m open.\u001b[39m\u001b[38;5;124m\"\u001b[39m\n\u001b[1;32m    322\u001b[0m     )\n\u001b[0;32m--> 324\u001b[0m \u001b[38;5;28;01mreturn\u001b[39;00m \u001b[43mio_open\u001b[49m\u001b[43m(\u001b[49m\u001b[43mfile\u001b[49m\u001b[43m,\u001b[49m\u001b[43m \u001b[49m\u001b[38;5;241;43m*\u001b[39;49m\u001b[43margs\u001b[49m\u001b[43m,\u001b[49m\u001b[43m \u001b[49m\u001b[38;5;241;43m*\u001b[39;49m\u001b[38;5;241;43m*\u001b[39;49m\u001b[43mkwargs\u001b[49m\u001b[43m)\u001b[49m\n",
      "\u001b[0;31mFileNotFoundError\u001b[0m: [Errno 2] No such file or directory: 'foo'"
     ]
    }
   ],
   "source": [
    "open('foo')"
   ]
  },
  {
   "cell_type": "code",
   "execution_count": null,
   "metadata": {},
   "outputs": [],
   "source": []
  }
 ],
 "metadata": {
  "kernelspec": {
   "display_name": "Python 3",
   "language": "python",
   "name": "python3"
  },
  "language_info": {
   "codemirror_mode": {
    "name": "ipython",
    "version": 3
   },
   "file_extension": ".py",
   "mimetype": "text/x-python",
   "name": "python",
   "nbconvert_exporter": "python",
   "pygments_lexer": "ipython3",
   "version": "3.10.12"
  }
 },
 "nbformat": 4,
 "nbformat_minor": 2
}
