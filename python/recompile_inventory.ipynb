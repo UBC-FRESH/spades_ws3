{
 "cells": [
  {
   "cell_type": "code",
   "execution_count": null,
   "metadata": {},
   "outputs": [],
   "source": [
    "dat_path = '../../../input'\n",
    "from spadesws3 import read_basenames\n",
    "basenames = read_basenames(dat_path+'/basenames.txt')\n",
    "%run -i spadesws3_params"
   ]
  },
  {
   "cell_type": "code",
   "execution_count": null,
   "metadata": {},
   "outputs": [],
   "source": [
    "ws3.__path__"
   ]
  },
  {
   "cell_type": "code",
   "execution_count": null,
   "metadata": {},
   "outputs": [],
   "source": [
    "#basenames = ['tsa08', 'tsa16', 'tsa24', 'tsa40', 'tsa41']\n",
    "snk_epsg = 3005 # BC Albers\n",
    "tolerance = 10.\n",
    "prop_names = [u'THLB', u'AU', u'LdSpp', u'Age2015', u'Shape_Area']\n",
    "prop_types = [(u'theme0', 'str:10'),\n",
    "              (u'theme1', 'str:1'),\n",
    "              (u'theme2', 'str:5'), \n",
    "              (u'theme3', 'str:50'), \n",
    "              (u'age', 'int:5'), \n",
    "              (u'area', 'float:10.1')]\n",
    "update_area_prop = 'area'\n",
    "do_clean_shapefiles = True\n",
    "#pixel_width = 100.\n",
    "pixel_width = 250."
   ]
  },
  {
   "cell_type": "code",
   "execution_count": null,
   "metadata": {},
   "outputs": [],
   "source": [
    "if do_clean_shapefiles:\n",
    "    clean_shapefiles(basenames, gdb_path, shp_path, snk_epsg, prop_names, prop_types, tolerance, update_area_prop)"
   ]
  },
  {
   "cell_type": "code",
   "execution_count": null,
   "metadata": {},
   "outputs": [],
   "source": [
    "rasterize_inventory(basenames, shp_path, tif_path, hdt_path, theme_cols, age_col, period_length, base_year,\n",
    "                    cap_age=None, d=pixel_width, verbose=True)"
   ]
  },
  {
   "cell_type": "code",
   "execution_count": null,
   "metadata": {},
   "outputs": [],
   "source": []
  }
 ],
 "metadata": {
  "kernelspec": {
   "display_name": "Python 3",
   "language": "python",
   "name": "python3"
  },
  "language_info": {
   "codemirror_mode": {
    "name": "ipython",
    "version": 3
   },
   "file_extension": ".py",
   "mimetype": "text/x-python",
   "name": "python",
   "nbconvert_exporter": "python",
   "pygments_lexer": "ipython3",
   "version": "3.6.7"
  }
 },
 "nbformat": 4,
 "nbformat_minor": 2
}
