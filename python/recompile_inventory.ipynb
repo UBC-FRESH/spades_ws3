{
 "cells": [
  {
   "cell_type": "markdown",
   "metadata": {},
   "source": [
    "This notebook demonstrates the geodata processing pipeline functions built into `ws3` and `spadesws3`.\n",
    "\n",
    "Basically, the geodata processing pipeline works in two stages. \n",
    "\n",
    "The first stage imports vegetation resource inventory (VRI) vector polygon data and cleans the data (i.e., fix problems with and potentially simplify polygon geometry, discard unwanted attribute data columns, rename remaining attribute data columns, patch bad data values), reproject vectory geometry to target CRS, and exports clean copies of reprojected vector data layers to disk.  \n",
    "\n",
    "The second stage imports the cleaned vector datasets and compiles multi-band GeoTIFF files that are compatible with input data requirements of the `spades_ws3` SpaDES module (i.e., the harvesting module)."
   ]
  },
  {
   "cell_type": "markdown",
   "metadata": {},
   "source": [
    "Set a few key variables before sourcing the `spadesws3_params.py` module code. We do not really need to source most of the code in that module, but this way we are certain that the Python environment we are using is almost identical to the environment set up inside the `reticulate` Python bubble in SpaDES when we load the `spades_ws3` module."
   ]
  },
  {
   "cell_type": "code",
   "execution_count": 1,
   "metadata": {},
   "outputs": [
    {
     "name": "stdout",
     "output_type": "stream",
     "text": [
      "\u001b[33mWARNING: Skipping ws3 as it is not installed.\u001b[0m\n"
     ]
    }
   ],
   "source": [
    "!pip uninstall -y ws3"
   ]
  },
  {
   "cell_type": "code",
   "execution_count": 3,
   "metadata": {
    "collapsed": true,
    "jupyter": {
     "outputs_hidden": true
    },
    "tags": []
   },
   "outputs": [
    {
     "name": "stdout",
     "output_type": "stream",
     "text": [
      "Requirement already satisfied: gurobipy in /media/data/home/gparadis/.local/lib/python3.8/site-packages (9.5.1)\n",
      "Requirement already satisfied: folium in /media/data/home/gparadis/.local/lib/python3.8/site-packages (0.12.1.post1)\n",
      "Requirement already satisfied: jinja2>=2.9 in /usr/lib/python3/dist-packages (from folium) (2.10.1)\n",
      "Requirement already satisfied: requests in /usr/lib/python3/dist-packages (from folium) (2.22.0)\n",
      "Requirement already satisfied: numpy in /media/data/home/gparadis/.local/lib/python3.8/site-packages (from folium) (1.22.3)\n",
      "Requirement already satisfied: branca>=0.3.0 in /media/data/home/gparadis/.local/lib/python3.8/site-packages (from folium) (0.4.2)\n",
      "Collecting git+https://github.com/gparadis/ws3@spatial_optimize\n",
      "  Cloning https://github.com/gparadis/ws3 (to revision spatial_optimize) to /tmp/pip-req-build-4l_kvzp9\n",
      "  Running command git clone -q https://github.com/gparadis/ws3 /tmp/pip-req-build-4l_kvzp9\n",
      "  Running command git checkout -b spatial_optimize --track origin/spatial_optimize\n",
      "  Switched to a new branch 'spatial_optimize'\n",
      "  Branch 'spatial_optimize' set up to track remote branch 'spatial_optimize' from 'origin'.\n",
      "Requirement already satisfied: fiona in /media/data/home/gparadis/.local/lib/python3.8/site-packages (from ws3==0.0.1.post3) (1.8.21)\n",
      "Requirement already satisfied: matplotlib in /usr/lib/python3/dist-packages (from ws3==0.0.1.post3) (3.1.2)\n",
      "Requirement already satisfied: numpy in /media/data/home/gparadis/.local/lib/python3.8/site-packages (from ws3==0.0.1.post3) (1.22.3)\n",
      "Requirement already satisfied: pandas in /media/data/home/gparadis/.local/lib/python3.8/site-packages (from ws3==0.0.1.post3) (1.4.1)\n",
      "Requirement already satisfied: profilehooks in /media/data/home/gparadis/.local/lib/python3.8/site-packages (from ws3==0.0.1.post3) (1.12.0)\n",
      "Requirement already satisfied: rasterio in /media/data/home/gparadis/.local/lib/python3.8/site-packages (from ws3==0.0.1.post3) (1.2.10)\n",
      "Requirement already satisfied: scipy in /media/data/home/gparadis/.local/lib/python3.8/site-packages (from ws3==0.0.1.post3) (1.8.0)\n",
      "Requirement already satisfied: click>=4.0 in /usr/lib/python3/dist-packages (from fiona->ws3==0.0.1.post3) (7.0)\n",
      "Requirement already satisfied: six>=1.7 in /usr/lib/python3/dist-packages (from fiona->ws3==0.0.1.post3) (1.14.0)\n",
      "Requirement already satisfied: cligj>=0.5 in /media/data/home/gparadis/.local/lib/python3.8/site-packages (from fiona->ws3==0.0.1.post3) (0.7.2)\n",
      "Requirement already satisfied: certifi in /usr/lib/python3/dist-packages (from fiona->ws3==0.0.1.post3) (2019.11.28)\n",
      "Requirement already satisfied: setuptools in /usr/lib/python3/dist-packages (from fiona->ws3==0.0.1.post3) (45.2.0)\n",
      "Requirement already satisfied: click-plugins>=1.0 in /media/data/home/gparadis/.local/lib/python3.8/site-packages (from fiona->ws3==0.0.1.post3) (1.1.1)\n",
      "Requirement already satisfied: attrs>=17 in /usr/lib/python3/dist-packages (from fiona->ws3==0.0.1.post3) (19.3.0)\n",
      "Requirement already satisfied: munch in /media/data/home/gparadis/.local/lib/python3.8/site-packages (from fiona->ws3==0.0.1.post3) (2.5.0)\n",
      "Requirement already satisfied: python-dateutil>=2.8.1 in /media/data/home/gparadis/.local/lib/python3.8/site-packages (from pandas->ws3==0.0.1.post3) (2.8.2)\n",
      "Requirement already satisfied: pytz>=2020.1 in /media/data/home/gparadis/.local/lib/python3.8/site-packages (from pandas->ws3==0.0.1.post3) (2022.1)\n",
      "Requirement already satisfied: snuggs>=1.4.1 in /media/data/home/gparadis/.local/lib/python3.8/site-packages (from rasterio->ws3==0.0.1.post3) (1.4.7)\n",
      "Requirement already satisfied: affine in /media/data/home/gparadis/.local/lib/python3.8/site-packages (from rasterio->ws3==0.0.1.post3) (2.3.1)\n",
      "Requirement already satisfied: pyparsing>=2.1.6 in /usr/lib/python3/dist-packages (from snuggs>=1.4.1->rasterio->ws3==0.0.1.post3) (2.4.6)\n",
      "Building wheels for collected packages: ws3\n",
      "  Building wheel for ws3 (setup.py) ... \u001b[?25ldone\n",
      "\u001b[?25h  Created wheel for ws3: filename=ws3-0.0.1.post3-py3-none-any.whl size=49850 sha256=34e28e24fdb0acb8b232c9d6eff7ad8ae15a648e2986fd5d07992b3859ae9885\n",
      "  Stored in directory: /tmp/pip-ephem-wheel-cache-ci21mq_r/wheels/33/57/85/7f53f5ae7b380b5c49fac70d2f2c798c2b093bf3a017b3d73f\n",
      "Successfully built ws3\n",
      "Installing collected packages: ws3\n",
      "Successfully installed ws3-0.0.1.post3\n"
     ]
    }
   ],
   "source": [
    "!pip install gurobipy folium\n",
    "!pip install git+https://github.com/gparadis/ws3@spatial_optimize"
   ]
  },
  {
   "cell_type": "code",
   "execution_count": 1,
   "metadata": {},
   "outputs": [],
   "source": [
    "dat_path = '../../../input'\n",
    "basenames = ['bc01']\n",
    "snk_epsg = 3005 # BC Albers\n",
    "tolerance = 10.\n",
    "\n",
    "#prop_names = [u'THLB', u'AU', u'LdSpp', u'Age2015', u'Shape_Area']\n",
    "#prop_types = [(u'theme0', 'str:10'),\n",
    "#              (u'theme1', 'str:1'),\n",
    "#              (u'theme2', 'str:5'), \n",
    "#              (u'theme3', 'str:50'), \n",
    "#              (u'age', 'int:5'), \n",
    "#              (u'area', 'float:10.1')]\n",
    "update_area_prop = 'area'\n",
    "pixel_width = 90.\n",
    "%run -i spadesws3_params"
   ]
  },
  {
   "cell_type": "markdown",
   "metadata": {},
   "source": [
    "Before running this notebook, you should clone the dev branch of `ws3` and use setuptools \"development mode\" to deploy symlinks to this cloned repo to `opt/tljh/user/lib/python3.6/site-packages/` by running `sudo -H python setup.py develop` from inside the cloned `ws3` directory, _from a Jupyter terminal_ (TLJH uses its own Python environment, so any deps have to be installed to there not to the system Python environment). "
   ]
  },
  {
   "cell_type": "markdown",
   "metadata": {},
   "source": [
    "Compile initial inventory multi-band GeoTIFF files for use with `spades_ws3` SpaDES module.\n",
    "\n",
    "`rasterize_inventory` is implemented in local module `spadesws3.py`, which basically just calls `ws3.common.rasterize_stands` for reach TSA in `basenames`. "
   ]
  },
  {
   "cell_type": "code",
   "execution_count": 2,
   "metadata": {},
   "outputs": [],
   "source": [
    "age_col = 'stAge'"
   ]
  },
  {
   "cell_type": "code",
   "execution_count": 4,
   "metadata": {},
   "outputs": [],
   "source": [
    "province_codes = ['BC', 'AB', 'SK', 'MB']\n",
    "mu_codes = {'BC':[1, 6, 7, 8, 9, 10, 11, 12, 13, 14, 15, 16, 17, 18, 19, 20, 21, 22, 25, 26, 27, 28, 29 ,30, 31, 32, 34, 35, 36, 37, 38, 39, 40, 41],\n",
    "            'AB':[1, 2, 3, 4, 5, 6, 7, 8, 9, 10, 11, 12, 13, 14, 15, 16, 17, 18, 19, 20],\n",
    "            'SK':[1, 2, 3, 4, 5, 6, 7, 8, 9, 10, 11, 12, 13, 14, 15, 16, 17, 18, 19],\n",
    "            'MB':[1, 2, 3, 4, 5]}"
   ]
  },
  {
   "cell_type": "code",
   "execution_count": 14,
   "metadata": {},
   "outputs": [],
   "source": [
    "basenames = ['%s%02d' % (province_code.lower(), mu_code)  for province_code in mu_codes for mu_code in mu_codes[province_code]]\n",
    "#mu_codes_ = list(zip(*mu_codes_))"
   ]
  },
  {
   "cell_type": "code",
   "execution_count": 15,
   "metadata": {},
   "outputs": [
    {
     "data": {
      "text/plain": [
       "['bc01',\n",
       " 'bc06',\n",
       " 'bc07',\n",
       " 'bc08',\n",
       " 'bc09',\n",
       " 'bc10',\n",
       " 'bc11',\n",
       " 'bc12',\n",
       " 'bc13',\n",
       " 'bc14',\n",
       " 'bc15',\n",
       " 'bc16',\n",
       " 'bc17',\n",
       " 'bc18',\n",
       " 'bc19',\n",
       " 'bc20',\n",
       " 'bc21',\n",
       " 'bc22',\n",
       " 'bc25',\n",
       " 'bc26',\n",
       " 'bc27',\n",
       " 'bc28',\n",
       " 'bc29',\n",
       " 'bc30',\n",
       " 'bc31',\n",
       " 'bc32',\n",
       " 'bc34',\n",
       " 'bc35',\n",
       " 'bc36',\n",
       " 'bc37',\n",
       " 'bc38',\n",
       " 'bc39',\n",
       " 'bc40',\n",
       " 'bc41',\n",
       " 'ab01',\n",
       " 'ab02',\n",
       " 'ab03',\n",
       " 'ab04',\n",
       " 'ab05',\n",
       " 'ab06',\n",
       " 'ab07',\n",
       " 'ab08',\n",
       " 'ab09',\n",
       " 'ab10',\n",
       " 'ab11',\n",
       " 'ab12',\n",
       " 'ab13',\n",
       " 'ab14',\n",
       " 'ab15',\n",
       " 'ab16',\n",
       " 'ab17',\n",
       " 'ab18',\n",
       " 'ab19',\n",
       " 'ab20',\n",
       " 'sk01',\n",
       " 'sk02',\n",
       " 'sk03',\n",
       " 'sk04',\n",
       " 'sk05',\n",
       " 'sk06',\n",
       " 'sk07',\n",
       " 'sk08',\n",
       " 'sk09',\n",
       " 'sk10',\n",
       " 'sk11',\n",
       " 'sk12',\n",
       " 'sk13',\n",
       " 'sk14',\n",
       " 'sk15',\n",
       " 'sk16',\n",
       " 'sk17',\n",
       " 'sk18',\n",
       " 'sk19',\n",
       " 'mb01',\n",
       " 'mb02',\n",
       " 'mb03',\n",
       " 'mb04',\n",
       " 'mb05']"
      ]
     },
     "execution_count": 15,
     "metadata": {},
     "output_type": "execute_result"
    }
   ],
   "source": [
    "basenames"
   ]
  },
  {
   "cell_type": "code",
   "execution_count": 16,
   "metadata": {},
   "outputs": [],
   "source": [
    "import os\n",
    "for bn in basenames:\n",
    "    try:\n",
    "        os.mkdir(tif_path(bn))\n",
    "    except:\n",
    "        pass"
   ]
  },
  {
   "cell_type": "code",
   "execution_count": 17,
   "metadata": {
    "tags": []
   },
   "outputs": [
    {
     "name": "stdout",
     "output_type": "stream",
     "text": [
      "rasterizing ../../../input/gis/shp/bc01.shp\n",
      "rasterizing ../../../input/gis/shp/bc06.shp\n",
      "rasterizing ../../../input/gis/shp/bc07.shp\n",
      "rasterizing ../../../input/gis/shp/bc08.shp\n",
      "rasterizing ../../../input/gis/shp/bc09.shp\n",
      "rasterizing ../../../input/gis/shp/bc10.shp\n",
      "rasterizing ../../../input/gis/shp/bc11.shp\n",
      "rasterizing ../../../input/gis/shp/bc12.shp\n",
      "rasterizing ../../../input/gis/shp/bc13.shp\n",
      "rasterizing ../../../input/gis/shp/bc14.shp\n",
      "rasterizing ../../../input/gis/shp/bc15.shp\n",
      "rasterizing ../../../input/gis/shp/bc16.shp\n",
      "rasterizing ../../../input/gis/shp/bc17.shp\n",
      "rasterizing ../../../input/gis/shp/bc18.shp\n",
      "rasterizing ../../../input/gis/shp/bc19.shp\n",
      "rasterizing ../../../input/gis/shp/bc20.shp\n",
      "rasterizing ../../../input/gis/shp/bc21.shp\n",
      "rasterizing ../../../input/gis/shp/bc22.shp\n",
      "rasterizing ../../../input/gis/shp/bc25.shp\n",
      "rasterizing ../../../input/gis/shp/bc26.shp\n",
      "rasterizing ../../../input/gis/shp/bc27.shp\n",
      "rasterizing ../../../input/gis/shp/bc28.shp\n",
      "rasterizing ../../../input/gis/shp/bc29.shp\n",
      "rasterizing ../../../input/gis/shp/bc30.shp\n",
      "rasterizing ../../../input/gis/shp/bc31.shp\n",
      "rasterizing ../../../input/gis/shp/bc32.shp\n",
      "rasterizing ../../../input/gis/shp/bc34.shp\n",
      "rasterizing ../../../input/gis/shp/bc35.shp\n",
      "rasterizing ../../../input/gis/shp/bc36.shp\n",
      "rasterizing ../../../input/gis/shp/bc37.shp\n",
      "rasterizing ../../../input/gis/shp/bc38.shp\n",
      "rasterizing ../../../input/gis/shp/bc39.shp\n",
      "rasterizing ../../../input/gis/shp/bc40.shp\n",
      "rasterizing ../../../input/gis/shp/bc41.shp\n",
      "rasterizing ../../../input/gis/shp/ab01.shp\n",
      "rasterizing ../../../input/gis/shp/ab02.shp\n",
      "rasterizing ../../../input/gis/shp/ab03.shp\n",
      "rasterizing ../../../input/gis/shp/ab04.shp\n",
      "rasterizing ../../../input/gis/shp/ab05.shp\n",
      "rasterizing ../../../input/gis/shp/ab06.shp\n",
      "rasterizing ../../../input/gis/shp/ab07.shp\n",
      "rasterizing ../../../input/gis/shp/ab08.shp\n",
      "rasterizing ../../../input/gis/shp/ab09.shp\n",
      "rasterizing ../../../input/gis/shp/ab10.shp\n",
      "rasterizing ../../../input/gis/shp/ab11.shp\n",
      "rasterizing ../../../input/gis/shp/ab12.shp\n",
      "rasterizing ../../../input/gis/shp/ab13.shp\n",
      "rasterizing ../../../input/gis/shp/ab14.shp\n",
      "rasterizing ../../../input/gis/shp/ab15.shp\n",
      "rasterizing ../../../input/gis/shp/ab16.shp\n",
      "rasterizing ../../../input/gis/shp/ab17.shp\n",
      "rasterizing ../../../input/gis/shp/ab18.shp\n",
      "rasterizing ../../../input/gis/shp/ab19.shp\n",
      "rasterizing ../../../input/gis/shp/ab20.shp\n",
      "rasterizing ../../../input/gis/shp/sk01.shp\n",
      "rasterizing ../../../input/gis/shp/sk02.shp\n",
      "rasterizing ../../../input/gis/shp/sk03.shp\n",
      "rasterizing ../../../input/gis/shp/sk04.shp\n",
      "rasterizing ../../../input/gis/shp/sk05.shp\n",
      "rasterizing ../../../input/gis/shp/sk06.shp\n",
      "rasterizing ../../../input/gis/shp/sk07.shp\n",
      "rasterizing ../../../input/gis/shp/sk08.shp\n",
      "rasterizing ../../../input/gis/shp/sk09.shp\n",
      "rasterizing ../../../input/gis/shp/sk10.shp\n",
      "rasterizing ../../../input/gis/shp/sk11.shp\n",
      "rasterizing ../../../input/gis/shp/sk12.shp\n",
      "rasterizing ../../../input/gis/shp/sk13.shp\n",
      "rasterizing ../../../input/gis/shp/sk14.shp\n",
      "rasterizing ../../../input/gis/shp/sk15.shp\n",
      "rasterizing ../../../input/gis/shp/sk16.shp\n",
      "rasterizing ../../../input/gis/shp/sk17.shp\n",
      "rasterizing ../../../input/gis/shp/sk18.shp\n",
      "rasterizing ../../../input/gis/shp/sk19.shp\n",
      "rasterizing ../../../input/gis/shp/mb01.shp\n",
      "rasterizing ../../../input/gis/shp/mb02.shp\n",
      "rasterizing ../../../input/gis/shp/mb03.shp\n",
      "rasterizing ../../../input/gis/shp/mb04.shp\n",
      "rasterizing ../../../input/gis/shp/mb05.shp\n"
     ]
    }
   ],
   "source": [
    "_ = rasterize_inventory(basenames, shp_path, tif_path, hdt_path, theme_cols, age_col, base_year,\n",
    "                        age_divisor=1., round_age=10., cap_age=None, d=pixel_width, verbose=True)\n",
    "\n",
    "#def rasterize_inventory(basenames, shp_path, tif_path, hdt_path, theme_cols, age_col, base_year,\n",
    "#                        age_divisor=1., round_age=1., cap_age=None, d=100., verbose=True):\n",
    "#basenames, shp_path, tif_path, hdt_path, theme_cols, age_col, base_year,\n",
    "#                        age_divisor=1., round_age=1., cap_age=None, d=100., verbose=True"
   ]
  },
  {
   "cell_type": "code",
   "execution_count": 10,
   "metadata": {},
   "outputs": [
    {
     "name": "stdout",
     "output_type": "stream",
     "text": [
      "total 6.0M\n",
      "drwxr-xr-x 2 gparadis gparadis  12K Jun 13 20:32 \u001b[0m\u001b[01;34m.\u001b[0m/\n",
      "drwxr-xr-x 7 gparadis gparadis 4.0K May  3 22:17 \u001b[01;34m..\u001b[0m/\n",
      "-rw-rw-r-- 1 gparadis gparadis 6.0M Jun 13 20:32 inventory_init.tif\n"
     ]
    }
   ],
   "source": [
    "ls -lah '../../../input/tif/%s' % basenames[0]"
   ]
  },
  {
   "cell_type": "code",
   "execution_count": null,
   "metadata": {},
   "outputs": [],
   "source": []
  }
 ],
 "metadata": {
  "kernelspec": {
   "display_name": "Python 3 (ipykernel)",
   "language": "python",
   "name": "python3"
  },
  "language_info": {
   "codemirror_mode": {
    "name": "ipython",
    "version": 3
   },
   "file_extension": ".py",
   "mimetype": "text/x-python",
   "name": "python",
   "nbconvert_exporter": "python",
   "pygments_lexer": "ipython3",
   "version": "3.8.10"
  }
 },
 "nbformat": 4,
 "nbformat_minor": 4
}
