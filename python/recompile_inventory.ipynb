{
 "cells": [
  {
   "cell_type": "markdown",
   "metadata": {},
   "source": [
    "This notebook demonstrates the geodata processing pipeline functions built into `ws3` and `spadesws3`.\n",
    "\n",
    "Basically, the geodata processing pipeline works in two stages. \n",
    "\n",
    "The first stage imports vegetation resource inventory (VRI) vector polygon data and cleans the data (i.e., fix problems with and potentially simplify polygon geometry, discard unwanted attribute data columns, rename remaining attribute data columns, patch bad data values), reproject vectory geometry to target CRS, and exports clean copies of reprojected vector data layers to disk.  \n",
    "\n",
    "The second stage imports the cleaned vector datasets and compiles multi-band GeoTIFF files that are compatible with input data requirements of the `spades_ws3` SpaDES module (i.e., the harvesting module)."
   ]
  },
  {
   "cell_type": "markdown",
   "metadata": {},
   "source": [
    "Set a few key variables before sourcing the `spadesws3_params.py` module code. We do not really need to source most of the code in that module, but this way we are certain that the Python environment we are using is almost identical to the environment set up inside the `reticulate` Python bubble in SpaDES when we load the `spades_ws3` module."
   ]
  },
  {
   "cell_type": "code",
   "execution_count": 1,
   "metadata": {},
   "outputs": [
    {
     "name": "stdout",
     "output_type": "stream",
     "text": [
      "/mnt/shared/projects/ria/modules/spades_ws3/python\n",
      "['/mnt/shared/projects/ria/modules/spades_ws3/python', '/opt/tljh/user/lib/python36.zip', '/opt/tljh/user/lib/python3.6', '/opt/tljh/user/lib/python3.6/lib-dynload', '', '/opt/tljh/user/lib/python3.6/site-packages', '/mnt/shared/projects/ws3', '/opt/tljh/user/lib/python3.6/site-packages/IPython/extensions', '/mnt/home/jupyter-gparadis/.ipython']\n"
     ]
    }
   ],
   "source": [
    "dat_path = '../../../input'\n",
    "from spadesws3 import read_basenames\n",
    "basenames = read_basenames(dat_path+'/basenames.txt')\n",
    "%run -i spadesws3_params"
   ]
  },
  {
   "cell_type": "markdown",
   "metadata": {},
   "source": [
    "Before running this notebook, you should clone the dev branch of `ws3` and use setuptools \"development mode\" to deploy symlinks to this cloned repo to `opt/tljh/user/lib/python3.6/site-packages/` by running `sudo -H python setup.py develop` from inside the cloned `ws3` directory, _from a Jupyter terminal_ (TLJH uses its own Python environment, so any deps have to be installed to there not to the system Python environment). "
   ]
  },
  {
   "cell_type": "code",
   "execution_count": 2,
   "metadata": {},
   "outputs": [
    {
     "data": {
      "text/plain": [
       "['/mnt/shared/projects/ws3/ws3']"
      ]
     },
     "execution_count": 2,
     "metadata": {},
     "output_type": "execute_result"
    }
   ],
   "source": [
    "ws3.__path__"
   ]
  },
  {
   "cell_type": "code",
   "execution_count": 3,
   "metadata": {},
   "outputs": [],
   "source": [
    "#basenames = ['tsa08', 'tsa16', 'tsa24', 'tsa40', 'tsa41'] # RIA landbase\n",
    "basenames = ['tsa10'] # Kalum TSA is the smallest in the set, so good for testing.\n",
    "snk_epsg = 3005 # BC Albers\n",
    "tolerance = 10.\n",
    "prop_names = [u'THLB', u'AU', u'LdSpp', u'Age2015', u'Shape_Area']\n",
    "prop_types = [(u'theme0', 'str:10'),\n",
    "              (u'theme1', 'str:1'),\n",
    "              (u'theme2', 'str:5'), \n",
    "              (u'theme3', 'str:50'), \n",
    "              (u'age', 'int:5'), \n",
    "              (u'area', 'float:10.1')]\n",
    "update_area_prop = 'area'\n",
    "do_clean_shapefiles = True\n",
    "#pixel_width = 100.\n",
    "pixel_width = 250."
   ]
  },
  {
   "cell_type": "markdown",
   "metadata": {},
   "source": [
    "Run stage 1 (i.e., clean the original VRI vector datasets).\n",
    "\n",
    "`clean_shapefiles` is implemented in local module `spadesws3.py`, which basically just calls `ws3.common.clean_vector_data` for reach TSA in `basenames`. "
   ]
  },
  {
   "cell_type": "code",
   "execution_count": 4,
   "metadata": {},
   "outputs": [
    {
     "name": "stdout",
     "output_type": "stream",
     "text": [
      "cleaning GDB ../../../input/gis/gdb/tsa10.gdb\n"
     ]
    },
    {
     "name": "stderr",
     "output_type": "stream",
     "text": [
      "/opt/tljh/user/lib/python3.6/site-packages/fiona/collection.py:331: FionaDeprecationWarning: Collection slicing is deprecated and will be disabled in a future version.\n",
      "  return self.session.__getitem__(item)\n"
     ]
    },
    {
     "name": "stdout",
     "output_type": "stream",
     "text": [
      "Polygons in original dataset 33762\n",
      "Polygons in clean dataset 33762\n",
      "Uncleanable polygons 0\n"
     ]
    }
   ],
   "source": [
    "if do_clean_shapefiles:\n",
    "    clean_shapefiles(basenames, gdb_path, shp_path, snk_epsg, prop_names, prop_types, tolerance, update_area_prop)"
   ]
  },
  {
   "cell_type": "markdown",
   "metadata": {},
   "source": [
    "Run stage 2 (i.e., compile initial inventory multi-band GeoTIFF files for use with `spades_ws3` SpaDES module).\n",
    "\n",
    "`rasterize_inventory` is implemented in local module `spadesws3.py`, which basically just calls `ws3.common.rasterize_stands` for reach TSA in `basenames`. "
   ]
  },
  {
   "cell_type": "code",
   "execution_count": 5,
   "metadata": {},
   "outputs": [
    {
     "name": "stdout",
     "output_type": "stream",
     "text": [
      "rasterizing ../../../input/gis/shp/tsa10.shp/stands.shp\n"
     ]
    }
   ],
   "source": [
    "_ = rasterize_inventory(basenames, shp_path, tif_path, hdt_path, theme_cols, age_col, period_length, base_year,\n",
    "                    cap_age=None, d=pixel_width, verbose=True)"
   ]
  },
  {
   "cell_type": "code",
   "execution_count": null,
   "metadata": {},
   "outputs": [],
   "source": []
  }
 ],
 "metadata": {
  "kernelspec": {
   "display_name": "Python 3",
   "language": "python",
   "name": "python3"
  },
  "language_info": {
   "codemirror_mode": {
    "name": "ipython",
    "version": 3
   },
   "file_extension": ".py",
   "mimetype": "text/x-python",
   "name": "python",
   "nbconvert_exporter": "python",
   "pygments_lexer": "ipython3",
   "version": "3.6.7"
  }
 },
 "nbformat": 4,
 "nbformat_minor": 2
}
