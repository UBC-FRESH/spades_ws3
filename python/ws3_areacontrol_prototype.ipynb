{
 "cells": [
  {
   "cell_type": "markdown",
   "metadata": {},
   "source": [
    "# Area control harvest scheduling algorithm prototype\n",
    "\n",
    "This notebook demonstrates a prototype implementation of a simple priority-queue (oldest first) area control harvest scheduling heuristic algorithm. Our implementation extends the `spadesws3` module, which bridges the gap between `SpaDES` (in R) and `ws3` (in Python).\n",
    "\n",
    "The `ws3` package already includes a `ws3.forest.GreedyAreaSelector` class, which automates the process of selecting and harvesting a target area (from oldest ages classes). An instance of `GreedyAreaSelector` is already built into the `ForestModel` class (`areaselector` attribute). So, as long as we know the area we want to harvest in each period, we basically just need to call the `operate` method (specifying the period 1, the correct `acode` corresponding to the harvesting treatment, and the target harvest area)."
   ]
  },
  {
   "cell_type": "code",
   "execution_count": 1,
   "metadata": {},
   "outputs": [
    {
     "name": "stdout",
     "output_type": "stream",
     "text": [
      "/mnt/shared/project/ria/modules/spades_ws3/python\n",
      "['/mnt/shared/project/ria/modules/spades_ws3/python', '/opt/tljh/user/lib/python36.zip', '/opt/tljh/user/lib/python3.6', '/opt/tljh/user/lib/python3.6/lib-dynload', '', '/opt/tljh/user/lib/python3.6/site-packages', '/mnt/shared/project/ws3', '/opt/tljh/user/lib/python3.6/site-packages/IPython/extensions', '/mnt/home/jupyter-gparadis/.ipython']\n"
     ]
    }
   ],
   "source": [
    "# emulate the Python environement we use in the spades_ws3 module\n",
    "dat_path = '../../../input'\n",
    "from spadesws3 import read_basenames, schedule_harvest_areacontrol\n",
    "\n",
    "#basenames = read_basenames(dat_path+'/basenames.txt')\n",
    "basenames = ['tsa08', 'tsa16', 'tsa24', 'tsa40', 'tsa41']\n",
    "#basenames = ['tsa40']\n",
    "%run -i spadesws3_params"
   ]
  },
  {
   "cell_type": "code",
   "execution_count": 2,
   "metadata": {},
   "outputs": [
    {
     "name": "stdout",
     "output_type": "stream",
     "text": [
      "copying ../../../input/tif/tsa08/inventory_init.tif ../../../input/tif/tsa08/inventory_2015.tif\n",
      "copying ../../../input/tif/tsa16/inventory_init.tif ../../../input/tif/tsa16/inventory_2015.tif\n",
      "copying ../../../input/tif/tsa24/inventory_init.tif ../../../input/tif/tsa24/inventory_2015.tif\n",
      "copying ../../../input/tif/tsa40/inventory_init.tif ../../../input/tif/tsa40/inventory_2015.tif\n",
      "copying ../../../input/tif/tsa41/inventory_init.tif ../../../input/tif/tsa41/inventory_2015.tif\n",
      "bootstrap_areas tsa08 2015 6.25 7644875.0\n",
      "bootstrap_areas tsa16 2015 6.25 4780950.0\n",
      "bootstrap_areas tsa24 2015 6.25 6752206.25\n",
      "bootstrap_areas tsa40 2015 6.25 4195350.0\n",
      "bootstrap_areas tsa41 2015 6.25 2160268.75\n"
     ]
    }
   ],
   "source": [
    "# instantiate a new ws3.forest.ForestModel instance using the bootstrap function defined in spadesws3_params.py\n",
    "fm = bootstrap_forestmodel_kwargs()"
   ]
  },
  {
   "cell_type": "code",
   "execution_count": 3,
   "metadata": {},
   "outputs": [
    {
     "data": {
      "text/plain": [
       "['harvest', 'null']"
      ]
     },
     "execution_count": 3,
     "metadata": {},
     "output_type": "execute_result"
    }
   ],
   "source": [
    "# list action keys\n",
    "list(fm.actions.keys())"
   ]
  },
  {
   "cell_type": "code",
   "execution_count": 4,
   "metadata": {},
   "outputs": [],
   "source": [
    "masks = ['%s 1 ? ?' % bn for bn in basenames]\n",
    "areas = []"
   ]
  },
  {
   "cell_type": "code",
   "execution_count": 5,
   "metadata": {},
   "outputs": [
    {
     "name": "stdout",
     "output_type": "stream",
     "text": [
      "bootstrap_areas tsa08 2015 6.25 7644875.0\n",
      "bootstrap_areas tsa16 2015 6.25 4780950.0\n",
      "bootstrap_areas tsa24 2015 6.25 6752206.25\n",
      "bootstrap_areas tsa40 2015 6.25 4195350.0\n",
      "bootstrap_areas tsa41 2015 6.25 2160268.75\n",
      "['tsa08 1 ? ?', 'tsa16 1 ? ?', 'tsa24 1 ? ?', 'tsa40 1 ? ?', 'tsa41 1 ? ?'] [5486.139063283248, 11352.940909887715, 27170.901616705643, 8082.0147883732125, 6047.770575651132]\n",
      "tsa08 1 ? ? 5486.139063283248\n",
      " entering selector.operate() 27 operable dtypes\n",
      "tsa16 1 ? ? 11352.940909887715\n",
      " entering selector.operate() 90 operable dtypes\n",
      "tsa24 1 ? ? 27170.901616705643\n",
      " entering selector.operate() 119 operable dtypes\n",
      "tsa40 1 ? ? 8082.0147883732125\n",
      " entering selector.operate() 53 operable dtypes\n",
      "tsa41 1 ? ? 6047.770575651132\n",
      " entering selector.operate() 72 operable dtypes\n",
      "SDA for TSA tsa08\n",
      "processing schedule for period 1\n",
      "failed (['tsa08', '1', '56', 'aspen'], 147, ('tsa08', '1', '56', 'aspen'), 1, 'harvest') (missing 137.5 of 167.4) in p1 dy0\n",
      "processing schedule for period 2\n",
      "SDA for TSA tsa16\n",
      "processing schedule for period 1\n",
      "processing schedule for period 2\n",
      "SDA for TSA tsa24\n",
      "processing schedule for period 1\n",
      "processing schedule for period 2\n",
      "SDA for TSA tsa40\n",
      "processing schedule for period 1\n",
      "processing schedule for period 2\n",
      "SDA for TSA tsa41\n",
      "processing schedule for period 1\n",
      "processing schedule for period 2\n"
     ]
    }
   ],
   "source": [
    "# run the harvest scheduler in optimize mode just to make sure that everything is running OK\n",
    "simulate_harvest(fm, basenames, 2015, mode='areacontrol', masks=masks, areas=areas)"
   ]
  },
  {
   "cell_type": "code",
   "execution_count": null,
   "metadata": {},
   "outputs": [],
   "source": []
  }
 ],
 "metadata": {
  "kernelspec": {
   "display_name": "Python 3",
   "language": "python",
   "name": "python3"
  },
  "language_info": {
   "codemirror_mode": {
    "name": "ipython",
    "version": 3
   },
   "file_extension": ".py",
   "mimetype": "text/x-python",
   "name": "python",
   "nbconvert_exporter": "python",
   "pygments_lexer": "ipython3",
   "version": "3.6.7"
  }
 },
 "nbformat": 4,
 "nbformat_minor": 2
}
